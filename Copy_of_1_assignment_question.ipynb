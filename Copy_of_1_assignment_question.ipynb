{
  "cells": [
    {
      "cell_type": "markdown",
      "metadata": {
        "id": "cKa0Inc6d6M1"
      },
      "source": [
        "# Python Basics\n",
        "## Topics Covered:\n",
        "- Syntax and Semantics\n",
        "- Variables and Data Types\n",
        "- Basic Operators (Arithmetic, Comparison, Logical)\n"
      ]
    },
    {
      "cell_type": "markdown",
      "metadata": {
        "id": "rB-OnGOWd6M8"
      },
      "source": [
        "## 1. Syntax and Semantics\n",
        "\n",
        "**Question 1:** Write a Python program to print \"Hello, World!\"."
      ]
    },
    {
      "cell_type": "code",
      "execution_count": null,
      "metadata": {
        "id": "RF9vj6DJd6M9",
        "outputId": "dfa053db-a8d4-4127-8a7d-f8b8d0a291f0",
        "colab": {
          "base_uri": "https://localhost:8080/"
        }
      },
      "outputs": [
        {
          "output_type": "stream",
          "name": "stdout",
          "text": [
            "Hello, World!\n"
          ]
        }
      ],
      "source": [
        "print(\"Hello, World!\")"
      ]
    },
    {
      "cell_type": "markdown",
      "metadata": {
        "id": "pcEZVwKsd6M_"
      },
      "source": [
        "**Question 2:** Write a Python program that takes a user input and prints it."
      ]
    },
    {
      "cell_type": "code",
      "execution_count": null,
      "metadata": {
        "id": "PiWMgCGMd6NA",
        "outputId": "e0ceaea8-2184-4246-fa8d-65adc7232c18",
        "colab": {
          "base_uri": "https://localhost:8080/"
        }
      },
      "outputs": [
        {
          "output_type": "stream",
          "name": "stdout",
          "text": [
            "Hi,How are you? hey,i am good\n",
            "hey,i am good\n"
          ]
        }
      ],
      "source": [
        "user1=input(\"Hi,How are you? \")\n",
        "print(user1)\n"
      ]
    },
    {
      "cell_type": "markdown",
      "metadata": {
        "id": "NwYYdrYZd6NB"
      },
      "source": [
        "**Question 3:** Write a Python program to check if a number is positive, negative, or zero."
      ]
    },
    {
      "cell_type": "code",
      "execution_count": null,
      "metadata": {
        "id": "lzRlulJ2d6NB",
        "outputId": "70fb3674-7195-4a84-81f4-2ebe4de6b736",
        "colab": {
          "base_uri": "https://localhost:8080/"
        }
      },
      "outputs": [
        {
          "output_type": "stream",
          "name": "stdout",
          "text": [
            "enter your number here? 44\n",
            "positive\n"
          ]
        }
      ],
      "source": [
        "num=int(input(\"enter your number here? \"))\n",
        "if num>0:\n",
        "  print(\"positive\")\n",
        "elif num<0:\n",
        "  print(\"negative\")\n",
        "else:\n",
        "  print(\"zero\")"
      ]
    },
    {
      "cell_type": "markdown",
      "metadata": {
        "id": "I3hUy9Ekd6NC"
      },
      "source": [
        "**Question 4:** Write a Python program to find the largest of three numbers."
      ]
    },
    {
      "cell_type": "code",
      "execution_count": null,
      "metadata": {
        "id": "tHQ7LskAd6ND",
        "outputId": "eb03327b-7cdd-4edd-ab0e-dec92b84a532",
        "colab": {
          "base_uri": "https://localhost:8080/"
        }
      },
      "outputs": [
        {
          "output_type": "stream",
          "name": "stdout",
          "text": [
            "largest_num: 13\n"
          ]
        }
      ],
      "source": [
        "val1=13\n",
        "val2=10\n",
        "val3=12\n",
        "if val1>=val2 and val1>=val3:\n",
        "  print(f\"largest_num: {val1}\")\n",
        "elif val2>=val3 and val2>=val1:\n",
        "  print(f\"largest_num: {val2}\")\n",
        "else:\n",
        "  print(f\"largest_num: {val3}\")\n"
      ]
    },
    {
      "cell_type": "markdown",
      "metadata": {
        "id": "VT1O6hWnd6ND"
      },
      "source": [
        "**Question 5:** Write a Python program to calculate the factorial of a number."
      ]
    },
    {
      "cell_type": "code",
      "execution_count": null,
      "metadata": {
        "id": "D02tGvtkd6ND",
        "outputId": "1b159446-0d10-4f3d-e44e-7d2c869d18c9",
        "colab": {
          "base_uri": "https://localhost:8080/"
        }
      },
      "outputs": [
        {
          "output_type": "execute_result",
          "data": {
            "text/plain": [
              "24"
            ]
          },
          "metadata": {},
          "execution_count": 57
        }
      ],
      "source": [
        "def factorial(n):\n",
        "  if n==0:\n",
        "    return 1\n",
        "  else:\n",
        "    return n * factorial(n-1)\n",
        "factorial(4)"
      ]
    },
    {
      "cell_type": "markdown",
      "metadata": {
        "id": "IMVwSM4bd6NE"
      },
      "source": [
        "## 2. Variables and Data Types\n",
        "\n",
        "**Question 6:** Create variables of different data types: integer, float, string, and boolean. Print their values and types."
      ]
    },
    {
      "cell_type": "code",
      "execution_count": null,
      "metadata": {
        "id": "LQZOpgpzd6NE",
        "outputId": "ca51f054-83e8-4f02-c58b-8d8c7652d0ce",
        "colab": {
          "base_uri": "https://localhost:8080/"
        }
      },
      "outputs": [
        {
          "output_type": "stream",
          "name": "stdout",
          "text": [
            "123\n",
            "<class 'int'>\n",
            "12.33\n",
            "<class 'float'>\n",
            "neha\n",
            "<class 'str'>\n",
            "True\n",
            "<class 'bool'>\n"
          ]
        }
      ],
      "source": [
        "integer=123\n",
        "print(integer)\n",
        "print(type(integer))\n",
        "float=12.33\n",
        "print(float)\n",
        "print(type(float))\n",
        "string=\"neha\"\n",
        "print(string)\n",
        "print(type(string))\n",
        "boolean=True\n",
        "print(boolean)\n",
        "print(type(boolean))\n"
      ]
    },
    {
      "cell_type": "markdown",
      "metadata": {
        "id": "2pW3rzLdd6NE"
      },
      "source": [
        "**Question 7:** Write a Python program to swap the values of two variables."
      ]
    },
    {
      "cell_type": "code",
      "execution_count": null,
      "metadata": {
        "id": "nYOoERn4d6NE",
        "outputId": "1db2e29b-9326-4105-f388-f2fdd464406f",
        "colab": {
          "base_uri": "https://localhost:8080/"
        }
      },
      "outputs": [
        {
          "output_type": "stream",
          "name": "stdout",
          "text": [
            "10 and 25\n"
          ]
        }
      ],
      "source": [
        "a=25\n",
        "b=10\n",
        "a,b=b,a\n",
        "print(f\"{a} and {b}\")\n"
      ]
    },
    {
      "cell_type": "markdown",
      "metadata": {
        "id": "E-1gNMyPd6NF"
      },
      "source": [
        "**Question 8:** Write a Python program to convert Celsius to Fahrenheit."
      ]
    },
    {
      "cell_type": "code",
      "execution_count": null,
      "metadata": {
        "id": "23x3DT3Td6NF",
        "colab": {
          "base_uri": "https://localhost:8080/"
        },
        "outputId": "0504279f-6320-4dea-e8be-77a58646a499"
      },
      "outputs": [
        {
          "output_type": "stream",
          "name": "stdout",
          "text": [
            "enter the temp? 25.6\n",
            "the temp is 81.08\n"
          ]
        }
      ],
      "source": [
        "cel=float(input(\"enter the temp? \"))\n",
        "fah=(cel *9/5)+35\n",
        "print(f\"the temp is {fah}\")"
      ]
    },
    {
      "cell_type": "markdown",
      "metadata": {
        "id": "VwxB5qEAd6NF"
      },
      "source": [
        "**Question 9:** Write a Python program to concatenate two strings."
      ]
    },
    {
      "cell_type": "code",
      "execution_count": null,
      "metadata": {
        "id": "OayPfw6wd6NF",
        "outputId": "84734756-5152-4aeb-c294-6b130a739f45",
        "colab": {
          "base_uri": "https://localhost:8080/"
        }
      },
      "outputs": [
        {
          "output_type": "stream",
          "name": "stdout",
          "text": [
            "Neha Maheen\n"
          ]
        }
      ],
      "source": [
        "str1=\"Neha\"\n",
        "str2=\"Maheen\"\n",
        "print(str1+ \" \"+str2)"
      ]
    },
    {
      "cell_type": "markdown",
      "metadata": {
        "id": "qUAyQatDd6NF"
      },
      "source": [
        "**Question 10:** Write a Python program to check if a variable is of a specific data type."
      ]
    },
    {
      "cell_type": "code",
      "execution_count": null,
      "metadata": {
        "id": "2SavEm70d6NF",
        "colab": {
          "base_uri": "https://localhost:8080/"
        },
        "outputId": "63076460-f9f7-4abf-cd4f-31fb5bcbe04e"
      },
      "outputs": [
        {
          "output_type": "stream",
          "name": "stdout",
          "text": [
            "Enter any data type and its values? Avengers!..Assemble\n",
            "the variable is a str\n"
          ]
        }
      ],
      "source": [
        "var=input(\"Enter any data type and its values? \")\n",
        "if isinstance(var,str):\n",
        "  print(f\"the variable is a str\")\n",
        "else:\n",
        "  print(f\"the variable is NOT an str\")"
      ]
    },
    {
      "cell_type": "markdown",
      "metadata": {
        "id": "2-nuVLE7d6NG"
      },
      "source": [
        "## 3. Basic Operators (Arithmetic, Comparison, Logical)\n",
        "\n",
        "**Question 11:** Write a Python program to perform arithmetic operations: addition, subtraction, multiplication, and division."
      ]
    },
    {
      "cell_type": "code",
      "execution_count": null,
      "metadata": {
        "id": "hcXCKqwhd6NG",
        "colab": {
          "base_uri": "https://localhost:8080/"
        },
        "outputId": "5cf6cb69-e3bb-4493-ec1d-0d7901ea780f"
      },
      "outputs": [
        {
          "output_type": "stream",
          "name": "stdout",
          "text": [
            "30\n",
            "10\n",
            "200\n",
            "2.0\n",
            "2\n"
          ]
        }
      ],
      "source": [
        "num1=20\n",
        "num2=10\n",
        "print(num1+num2)\n",
        "print(num1-num2)\n",
        "print(num1*num2)\n",
        "print(num1 / num2)\n",
        "print(num1//num2)\n"
      ]
    },
    {
      "cell_type": "markdown",
      "metadata": {
        "id": "KKLmEc4Jd6NG"
      },
      "source": [
        "**Question 12:** Write a Python program to demonstrate comparison operators: equal to, not equal to, greater than, less than."
      ]
    },
    {
      "cell_type": "code",
      "execution_count": null,
      "metadata": {
        "id": "pV2gIbajd6NG",
        "colab": {
          "base_uri": "https://localhost:8080/"
        },
        "outputId": "b49e31a7-f5cb-4614-e00a-45d2f3aa2dd5"
      },
      "outputs": [
        {
          "output_type": "stream",
          "name": "stdout",
          "text": [
            "True\n",
            "False\n",
            "True\n",
            "False\n",
            "True\n",
            "False\n"
          ]
        }
      ],
      "source": [
        "num1=20\n",
        "num2=10\n",
        "print(num1>num2)\n",
        "print(num1<num2)\n",
        "print(num1>=num2)\n",
        "print(num1<=num2)\n",
        "print(num1!=num2)\n",
        "print(num1==num2)\n"
      ]
    },
    {
      "cell_type": "markdown",
      "metadata": {
        "id": "SVM2my5td6NH"
      },
      "source": [
        "**Question 13:** Write a Python program to demonstrate logical operators: and, or, not."
      ]
    },
    {
      "cell_type": "code",
      "execution_count": null,
      "metadata": {
        "id": "rQqqEtw6d6NH",
        "colab": {
          "base_uri": "https://localhost:8080/"
        },
        "outputId": "a0967f0b-d41b-407d-e08f-4594cdfc10d6"
      },
      "outputs": [
        {
          "output_type": "stream",
          "name": "stdout",
          "text": [
            "10\n",
            "20\n",
            "False\n"
          ]
        }
      ],
      "source": [
        "num1=20\n",
        "num2=10\n",
        "print(num1 and num2)\n",
        "print(num1 or num2)\n",
        "print( not num2)\n"
      ]
    },
    {
      "cell_type": "markdown",
      "metadata": {
        "id": "zqKZICJcd6NH"
      },
      "source": [
        "**Question 14:** Write a Python program to calculate the square of a number."
      ]
    },
    {
      "cell_type": "code",
      "execution_count": null,
      "metadata": {
        "id": "5pg9udKBd6NH",
        "outputId": "8ab7c5b4-59c0-4e88-9b0f-f8a1fce5e406",
        "colab": {
          "base_uri": "https://localhost:8080/"
        }
      },
      "outputs": [
        {
          "output_type": "stream",
          "name": "stdout",
          "text": [
            "16.0\n"
          ]
        }
      ],
      "source": [
        "import math as m\n",
        "num=4\n",
        "print(m.pow(num,2))\n"
      ]
    },
    {
      "cell_type": "markdown",
      "metadata": {
        "id": "9G1sGOYqd6NH"
      },
      "source": [
        "**Question 15:** Write a Python program to check if a number is even or odd."
      ]
    },
    {
      "cell_type": "code",
      "execution_count": null,
      "metadata": {
        "id": "X-NwUdlid6NH",
        "colab": {
          "base_uri": "https://localhost:8080/"
        },
        "outputId": "e173ffb6-79f2-4a07-980b-fd1234a8ee16"
      },
      "outputs": [
        {
          "output_type": "stream",
          "name": "stdout",
          "text": [
            "odd\n"
          ]
        }
      ],
      "source": [
        "num=13\n",
        "if num%2==0:\n",
        "  print(\"even\")\n",
        "else:\n",
        "  print(\"odd\")"
      ]
    },
    {
      "cell_type": "markdown",
      "metadata": {
        "id": "0tK_p7UEd6NI"
      },
      "source": [
        "**Question 16:** Write a Python program to find the sum of the first n natural numbers."
      ]
    },
    {
      "cell_type": "code",
      "execution_count": null,
      "metadata": {
        "id": "3UWywVfdd6NI",
        "colab": {
          "base_uri": "https://localhost:8080/"
        },
        "outputId": "c37d1984-0a09-47ed-acbf-82a573fec4b8"
      },
      "outputs": [
        {
          "output_type": "stream",
          "name": "stdout",
          "text": [
            "50\n"
          ]
        }
      ],
      "source": [
        "list=[10,10,10,10,10]\n",
        "sum=0\n",
        "for i in list:\n",
        "  sum+=i\n",
        "print(sum)\n"
      ]
    },
    {
      "cell_type": "markdown",
      "metadata": {
        "id": "8fS9sz9Xd6NI"
      },
      "source": [
        "**Question 17:** Write a Python program to check if a year is a leap year."
      ]
    },
    {
      "cell_type": "code",
      "execution_count": null,
      "metadata": {
        "id": "aoOhcQtrd6NJ",
        "colab": {
          "base_uri": "https://localhost:8080/"
        },
        "outputId": "36ba0c58-0844-40ef-f54a-1c6d18523325"
      },
      "outputs": [
        {
          "output_type": "stream",
          "name": "stdout",
          "text": [
            "enter a year? 2024\n",
            " the 2024 is a leap year\n"
          ]
        }
      ],
      "source": [
        "year=int(input(\"enter a year? \"))\n",
        "if (year%4==0 and year%100!=0) or (year%400==0):\n",
        "  print(f\" the {year} is a leap year\")\n",
        "else:\n",
        "  print(f\" the {year} is not a leap year\")\n",
        "\n"
      ]
    },
    {
      "cell_type": "markdown",
      "metadata": {
        "id": "rW3CHuMUd6NJ"
      },
      "source": [
        "**Question 18:** Write a Python program to reverse a string."
      ]
    },
    {
      "cell_type": "code",
      "execution_count": null,
      "metadata": {
        "id": "gRTt-4B0d6NJ",
        "outputId": "17d3f827-691e-4998-d9e2-9e48152b4310",
        "colab": {
          "base_uri": "https://localhost:8080/"
        }
      },
      "outputs": [
        {
          "output_type": "stream",
          "name": "stdout",
          "text": [
            "neehamahen\n"
          ]
        }
      ],
      "source": [
        "str=\"nehamaheen\"\n",
        "print(str[::-1])\n"
      ]
    },
    {
      "cell_type": "markdown",
      "metadata": {
        "id": "yGJDXGCHd6NJ"
      },
      "source": [
        "**Question 19:** Write a Python program to check if a string is a palindrome."
      ]
    },
    {
      "cell_type": "code",
      "execution_count": null,
      "metadata": {
        "id": "99BAzn0Vd6NJ",
        "outputId": "ab1b4ca3-2aa7-4d57-99da-c1a418d05f0a",
        "colab": {
          "base_uri": "https://localhost:8080/"
        }
      },
      "outputs": [
        {
          "output_type": "stream",
          "name": "stdout",
          "text": [
            "Enter your string? neha\n",
            "no\n"
          ]
        }
      ],
      "source": [
        "s=input(\"Enter your string? \")\n",
        "palindrome=\"\".join(reversed(s))\n",
        "if s==palindrome:\n",
        "  print(\"yes\")\n",
        "else:\n",
        "  print(\"no\")"
      ]
    },
    {
      "cell_type": "markdown",
      "metadata": {
        "id": "yJFZBURLd6NQ"
      },
      "source": [
        "**Question 20:** Write a Python program to sort a list of numbers in ascending order."
      ]
    },
    {
      "cell_type": "code",
      "execution_count": null,
      "metadata": {
        "id": "VbUDKlKsd6NS",
        "outputId": "0d8d1a94-99ff-4313-d26e-b8842ef79654",
        "colab": {
          "base_uri": "https://localhost:8080/"
        }
      },
      "outputs": [
        {
          "output_type": "stream",
          "name": "stdout",
          "text": [
            "[2, 3, 4, 7, 8, 11, 44, 55, 99]\n"
          ]
        }
      ],
      "source": [
        "list=[11,2,44,55,7,8,99,4,3]\n",
        "res=sorted(list)\n",
        "print(res)"
      ]
    }
  ],
  "metadata": {
    "kernelspec": {
      "display_name": "Python 3",
      "language": "python",
      "name": "python3"
    },
    "language_info": {
      "codemirror_mode": {
        "name": "ipython",
        "version": 3
      },
      "file_extension": ".py",
      "mimetype": "text/x-python",
      "name": "python",
      "nbconvert_exporter": "python",
      "pygments_lexer": "ipython3",
      "version": "3.8.5"
    },
    "colab": {
      "provenance": []
    }
  },
  "nbformat": 4,
  "nbformat_minor": 0
}