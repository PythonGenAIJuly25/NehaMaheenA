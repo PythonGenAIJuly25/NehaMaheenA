{
  "cells": [
    {
      "cell_type": "markdown",
      "metadata": {
        "id": "dVuJZOyuD1sR"
      },
      "source": [
        "# Module 3: Data Structures Assignments\n",
        "## Lesson 3.3: Sets\n",
        "### Assignment 1: Creating and Accessing Sets\n",
        "\n",
        "Create a set with the first 10 positive integers. Print the set.\n",
        "\n",
        "### Assignment 2: Adding and Removing Elements\n",
        "\n",
        "Add the number 11 to the set created in Assignment 1. Then remove the number 1 from the set. Print the modified set.\n",
        "\n",
        "### Assignment 3: Set Operations\n",
        "\n",
        "Create two sets: one with the first 5 positive integers and another with the first 5 even integers. Perform and print the results of union, intersection, difference, and symmetric difference operations on these sets.\n",
        "\n",
        "### Assignment 4: Set Comprehensions\n",
        "\n",
        "Create a new set containing the squares of the first 10 positive integers using a set comprehension. Print the new set.\n",
        "\n",
        "### Assignment 5: Filtering Sets\n",
        "\n",
        "Create a new set containing only the even numbers from the set created in Assignment 1 using a set comprehension. Print the new set.\n",
        "\n",
        "### Assignment 6: Set Methods\n",
        "\n",
        "Create a set with duplicate elements and remove the duplicates using set methods. Print the modified set.\n",
        "\n",
        "### Assignment 7: Subsets and Supersets\n",
        "\n",
        "Create two sets: one with the first 5 positive integers and another with the first 3 positive integers. Check if the second set is a subset of the first set and if the first set is a superset of the second set. Print the results.\n",
        "\n",
        "### Assignment 8: Frozenset\n",
        "\n",
        "Create a frozenset with the first 5 positive integers. Print the frozenset.\n",
        "\n",
        "### Assignment 9: Set and List Conversion\n",
        "\n",
        "Create a set with the first 5 positive integers. Convert it to a list, append the number 6, and convert it back to a set. Print the resulting set.\n",
        "\n",
        "### Assignment 10: Set and Dictionary\n",
        "\n",
        "Create a dictionary with set keys and integer values. Print the dictionary.\n",
        "\n",
        "### Assignment 11: Iterating Over Sets\n",
        "\n",
        "Create a set and iterate over the elements, printing each element.\n",
        "\n",
        "### Assignment 12: Removing Elements from Sets\n",
        "\n",
        "Create a set and remove elements from it until it is empty. Print the set after each removal.\n",
        "\n",
        "### Assignment 13: Set Symmetric Difference Update\n",
        "\n",
        "Create two sets and update the first set with the symmetric difference of the two sets. Print the modified first set.\n",
        "\n",
        "### Assignment 14: Set Membership Testing\n",
        "\n",
        "Create a set and test if certain elements are present in the set. Print the results.\n",
        "\n",
        "### Assignment 15: Set of Tuples\n",
        "\n",
        "Create a set containing tuples, where each tuple contains two elements. Print the set."
      ],
      "id": "dVuJZOyuD1sR"
    },
    {
      "cell_type": "code",
      "execution_count": null,
      "metadata": {
        "colab": {
          "base_uri": "https://localhost:8080/"
        },
        "id": "GJ93usxXD1sV",
        "outputId": "48fb592f-2aa9-4f3d-c291-3c7d4cf8b609"
      },
      "outputs": [
        {
          "output_type": "stream",
          "name": "stdout",
          "text": [
            "{1, 2, 3, 4, 5, 6, 7, 8, 9, 10}\n"
          ]
        }
      ],
      "source": [
        "set1={1,2,3,4,5,6,7,8,9,10}\n",
        "print(set1)"
      ],
      "id": "GJ93usxXD1sV"
    },
    {
      "cell_type": "code",
      "source": [
        "my_set = {1, 2, 3, 4, 5, 6, 7, 8, 9, 10}\n",
        "my_set.add(11)\n",
        "my_set.remove(1)\n",
        "print(\"set:\", my_set)\n"
      ],
      "metadata": {
        "colab": {
          "base_uri": "https://localhost:8080/"
        },
        "id": "8G24PBd2ECyC",
        "outputId": "2806e86d-4a24-4791-c453-c4090a730373"
      },
      "id": "8G24PBd2ECyC",
      "execution_count": null,
      "outputs": [
        {
          "output_type": "stream",
          "name": "stdout",
          "text": [
            "set: {2, 3, 4, 5, 6, 7, 8, 9, 10, 11}\n"
          ]
        }
      ]
    },
    {
      "cell_type": "code",
      "source": [
        "set1 = {1,2,3,4,5}\n",
        "set2 = {2,4,6,8,10}\n",
        "union = set1 | set2\n",
        "intersection = set1 & set2\n",
        "difference = set1 - set2\n",
        "symmetric_diff = set1 ^ set2\n",
        "\n",
        "print(\"Union:\", union)\n",
        "print(\"Intersection:\", intersection)\n",
        "print(\"Difference (set1 - set2):\", difference)\n",
        "print(\"Symmetric Difference:\", symmetric_diff)\n"
      ],
      "metadata": {
        "colab": {
          "base_uri": "https://localhost:8080/"
        },
        "id": "K5O1r2QXECum",
        "outputId": "295f1c56-ff22-4393-d4c1-bb806c88a565"
      },
      "id": "K5O1r2QXECum",
      "execution_count": 3,
      "outputs": [
        {
          "output_type": "stream",
          "name": "stdout",
          "text": [
            "Union: {1, 2, 3, 4, 5, 6, 8, 10}\n",
            "Intersection: {2, 4}\n",
            "Difference (set1 - set2): {1, 3, 5}\n",
            "Symmetric Difference: {1, 3, 5, 6, 8, 10}\n"
          ]
        }
      ]
    },
    {
      "cell_type": "code",
      "source": [
        "squares_set = {x**2 for x in range(1, 11)}\n",
        "print(\"Set of squares:\", squares_set)"
      ],
      "metadata": {
        "colab": {
          "base_uri": "https://localhost:8080/"
        },
        "id": "WYHxYf5CECrS",
        "outputId": "a7444d10-00f9-46da-91b3-0c81fb150a6a"
      },
      "id": "WYHxYf5CECrS",
      "execution_count": 8,
      "outputs": [
        {
          "output_type": "stream",
          "name": "stdout",
          "text": [
            "Set of squares: {64, 1, 4, 36, 100, 9, 16, 49, 81, 25}\n"
          ]
        }
      ]
    },
    {
      "cell_type": "code",
      "source": [
        "set1 = {1,2,3,4,5,6,7,8,9,10}\n",
        "even_set = {x for x in set1 if x % 2 == 0}\n",
        "print(\"Set of even numbers:\", even_set)"
      ],
      "metadata": {
        "colab": {
          "base_uri": "https://localhost:8080/"
        },
        "id": "4TmGZbB6ECo3",
        "outputId": "40eaae69-8ff9-4a1b-b851-2e7a95271f16"
      },
      "id": "4TmGZbB6ECo3",
      "execution_count": 9,
      "outputs": [
        {
          "output_type": "stream",
          "name": "stdout",
          "text": [
            "Set of even numbers: {2, 4, 6, 8, 10}\n"
          ]
        }
      ]
    },
    {
      "cell_type": "code",
      "source": [
        "set1 = {1,2,3,4,5,7,6,5,2,3,1}\n",
        "unique_numbers = set(set1)\n",
        "print(\"Set with duplicates removed:\", unique_numbers)"
      ],
      "metadata": {
        "colab": {
          "base_uri": "https://localhost:8080/"
        },
        "id": "MG3K1TohECmj",
        "outputId": "a29c74a6-68a6-4581-bb8b-b40f426e584e"
      },
      "id": "MG3K1TohECmj",
      "execution_count": null,
      "outputs": [
        {
          "output_type": "stream",
          "name": "stdout",
          "text": [
            "Set with duplicates removed: {1, 2, 3, 4, 5, 6, 7}\n"
          ]
        }
      ]
    },
    {
      "cell_type": "code",
      "source": [
        "set1 = {1, 2, 3, 4, 5}\n",
        "set2 = {1, 2, 3}\n",
        "is_subset = set2.issubset(set1)\n",
        "is_superset = set1.issuperset(set2)\n",
        "print(\"Is set2 a subset of set1?\", is_subset)\n",
        "print(\"Is set1 a superset of set2?\", is_superset)\n"
      ],
      "metadata": {
        "colab": {
          "base_uri": "https://localhost:8080/"
        },
        "id": "F7IBX6nYECYN",
        "outputId": "464e073d-e379-488b-cf53-6e5ed246498f"
      },
      "id": "F7IBX6nYECYN",
      "execution_count": 10,
      "outputs": [
        {
          "output_type": "stream",
          "name": "stdout",
          "text": [
            "Is set2 a subset of set1? True\n",
            "Is set1 a superset of set2? True\n"
          ]
        }
      ]
    },
    {
      "cell_type": "code",
      "source": [
        "frozen = frozenset([1, 2, 3, 4, 5])\n",
        "print(\"Frozenset:\", frozen)"
      ],
      "metadata": {
        "colab": {
          "base_uri": "https://localhost:8080/"
        },
        "id": "zsXFomYIECU1",
        "outputId": "d36555f3-baac-4641-d0d1-e9abe3e3cee9"
      },
      "id": "zsXFomYIECU1",
      "execution_count": null,
      "outputs": [
        {
          "output_type": "stream",
          "name": "stdout",
          "text": [
            "Frozenset: frozenset({1, 2, 3, 4, 5})\n"
          ]
        }
      ]
    },
    {
      "cell_type": "code",
      "source": [
        "set1={1,2,3,4,5}\n",
        "convert=list(set1)\n",
        "convert.append(6)\n",
        "con2=set(convert)\n",
        "print(con2)\n"
      ],
      "metadata": {
        "id": "HS9ZJ4f6ECSk",
        "colab": {
          "base_uri": "https://localhost:8080/"
        },
        "outputId": "607ecb71-eb06-490a-9faf-340f66e00b75"
      },
      "id": "HS9ZJ4f6ECSk",
      "execution_count": 14,
      "outputs": [
        {
          "output_type": "stream",
          "name": "stdout",
          "text": [
            "{1, 2, 3, 4, 5, 6}\n"
          ]
        }
      ]
    },
    {
      "cell_type": "code",
      "source": [
        "dict_num={\n",
        "    frozenset({1,2,3}):10,\n",
        "    frozenset({2,3,4}):11,\n",
        "    frozenset({9,4,5}):22\n",
        "}\n",
        "print(type(dict_num))\n",
        "print(dict_num)"
      ],
      "metadata": {
        "colab": {
          "base_uri": "https://localhost:8080/"
        },
        "id": "DsdBZLEmKcnY",
        "outputId": "f5febc07-99f3-4862-abdc-b19aa76367a0"
      },
      "id": "DsdBZLEmKcnY",
      "execution_count": 18,
      "outputs": [
        {
          "output_type": "stream",
          "name": "stdout",
          "text": [
            "<class 'dict'>\n",
            "{frozenset({1, 2, 3}): 10, frozenset({2, 3, 4}): 11, frozenset({9, 4, 5}): 22}\n"
          ]
        }
      ]
    },
    {
      "cell_type": "code",
      "source": [
        "iterate_set={1,2,3,4,5,6,6}\n",
        "for x in iterate_set:\n",
        "  print(x,end=\" \")"
      ],
      "metadata": {
        "colab": {
          "base_uri": "https://localhost:8080/"
        },
        "id": "J4lQWj0uKcfS",
        "outputId": "80815a14-ead7-4cf5-9001-1c63be5f3ae0"
      },
      "id": "J4lQWj0uKcfS",
      "execution_count": 20,
      "outputs": [
        {
          "output_type": "stream",
          "name": "stdout",
          "text": [
            "1 2 3 4 5 6 "
          ]
        }
      ]
    },
    {
      "cell_type": "code",
      "source": [
        "iterate_set={1,2,3,4,5,6,6}\n",
        "while iterate_set:\n",
        "    res=iterate_set.pop()\n",
        "    print(res)\n",
        "    print(iterate_set)\n",
        "\n"
      ],
      "metadata": {
        "colab": {
          "base_uri": "https://localhost:8080/"
        },
        "id": "l6vrLy3yKcbt",
        "outputId": "a1047855-5e1a-4736-c299-c18a59acd8a1"
      },
      "id": "l6vrLy3yKcbt",
      "execution_count": 32,
      "outputs": [
        {
          "output_type": "stream",
          "name": "stdout",
          "text": [
            "1\n",
            "{2, 3, 4, 5, 6}\n",
            "2\n",
            "{3, 4, 5, 6}\n",
            "3\n",
            "{4, 5, 6}\n",
            "4\n",
            "{5, 6}\n",
            "5\n",
            "{6}\n",
            "6\n",
            "set()\n"
          ]
        }
      ]
    },
    {
      "cell_type": "code",
      "source": [
        "set1 = {1,2,3,4,5}\n",
        "set2 = {2,4,6,8,10}\n",
        "symmetric_diff=set1^set2\n",
        "new_set=(*set1,*symmetric_diff)\n",
        "print(new_set)"
      ],
      "metadata": {
        "colab": {
          "base_uri": "https://localhost:8080/"
        },
        "id": "NEdaqiw9KcWI",
        "outputId": "afebe0fd-c89e-422d-d92e-da0dae03c54e"
      },
      "id": "NEdaqiw9KcWI",
      "execution_count": 33,
      "outputs": [
        {
          "output_type": "stream",
          "name": "stdout",
          "text": [
            "(1, 2, 3, 4, 5, 1, 3, 5, 6, 8, 10)\n"
          ]
        }
      ]
    },
    {
      "cell_type": "code",
      "source": [
        "set1 = {1,2,3,4,5}\n",
        "print(3 in set1)\n",
        "print(6 in set1)\n"
      ],
      "metadata": {
        "colab": {
          "base_uri": "https://localhost:8080/"
        },
        "id": "EBrYxy0JKcA1",
        "outputId": "9ef0934f-9313-42ae-97dd-4e1f77885a8e"
      },
      "id": "EBrYxy0JKcA1",
      "execution_count": 35,
      "outputs": [
        {
          "output_type": "stream",
          "name": "stdout",
          "text": [
            "True\n",
            "False\n"
          ]
        }
      ]
    },
    {
      "cell_type": "code",
      "source": [
        "set1 = {(1,2),(1,),(\"tuple\",2)}\n",
        "for i in set1:\n",
        "  print(i)"
      ],
      "metadata": {
        "colab": {
          "base_uri": "https://localhost:8080/"
        },
        "id": "Qac3qCuPUT4K",
        "outputId": "25291236-f640-480d-9972-ff13c7b49402"
      },
      "id": "Qac3qCuPUT4K",
      "execution_count": 45,
      "outputs": [
        {
          "output_type": "stream",
          "name": "stdout",
          "text": [
            "(1,)\n",
            "(1, 2)\n",
            "('tuple', 2)\n"
          ]
        }
      ]
    }
  ],
  "metadata": {
    "kernelspec": {
      "display_name": "Python 3",
      "language": "python",
      "name": "python3"
    },
    "language_info": {
      "codemirror_mode": {
        "name": "ipython",
        "version": 3
      },
      "file_extension": ".py",
      "mimetype": "text/x-python",
      "name": "python",
      "nbconvert_exporter": "python",
      "pygments_lexer": "ipython3",
      "version": "3.9.7"
    },
    "colab": {
      "provenance": []
    }
  },
  "nbformat": 4,
  "nbformat_minor": 5
}