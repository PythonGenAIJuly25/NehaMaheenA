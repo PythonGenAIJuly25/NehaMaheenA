{
  "cells": [
    {
      "cell_type": "markdown",
      "id": "6cade624",
      "metadata": {
        "id": "6cade624"
      },
      "source": [
        "# Module 3: Data Structures Assignments\n",
        "## Lesson 3.2: Tuples\n",
        "### Assignment 1: Creating and Accessing Tuples\n",
        "\n",
        "Create a tuple with the first 10 positive integers. Print the tuple.\n",
        "\n",
        "### Assignment 2: Accessing Tuple Elements\n",
        "\n",
        "Print the first, middle, and last elements of the tuple created in Assignment 1.\n",
        "\n",
        "### Assignment 3: Tuple Slicing\n",
        "\n",
        "Print the first three elements, the last three elements, and the elements from index 2 to 5 of the tuple created in Assignment 1.\n",
        "\n",
        "### Assignment 4: Nested Tuples\n",
        "\n",
        "Create a nested tuple representing a 3x3 matrix and print the matrix. Access and print the element at the second row and third column.\n",
        "\n",
        "### Assignment 5: Tuple Concatenation\n",
        "\n",
        "Concatenate two tuples: (1, 2, 3) and (4, 5, 6). Print the resulting tuple.\n",
        "\n",
        "### Assignment 6: Tuple Methods\n",
        "\n",
        "Create a tuple with duplicate elements and count the occurrences of an element. Find the index of the first occurrence of an element in the tuple.\n",
        "\n",
        "### Assignment 7: Unpacking Tuples\n",
        "\n",
        "Create a tuple with 5 elements and unpack it into 5 variables. Print the variables.\n",
        "\n",
        "### Assignment 8: Tuple Conversion\n",
        "\n",
        "Convert a list of the first 5 positive integers to a tuple. Print the tuple.\n",
        "\n",
        "### Assignment 9: Tuple of Tuples\n",
        "\n",
        "Create a tuple containing 3 tuples, each with 3 elements. Print the tuple of tuples.\n",
        "\n",
        "### Assignment 10: Tuple and List\n",
        "\n",
        "Create a tuple with the first 5 positive integers. Convert it to a list, append the number 6, and convert it back to a tuple. Print the resulting tuple.\n",
        "\n",
        "### Assignment 11: Tuple and String\n",
        "\n",
        "Create a tuple with the characters of a string. Join the tuple elements into a single string. Print the string.\n",
        "\n",
        "### Assignment 12: Tuple and Dictionary\n",
        "\n",
        "Create a dictionary with tuple keys and integer values. Print the dictionary.\n",
        "\n",
        "### Assignment 13: Nested Tuple Iteration\n",
        "\n",
        "Create a nested tuple and iterate over the elements, printing each element.\n",
        "\n",
        "### Assignment 14: Tuple and Set\n",
        "\n",
        "Create a tuple with duplicate elements. Convert it to a set to remove duplicates and print the resulting set.\n",
        "\n",
        "### Assignment 15: Tuple Functions\n",
        "\n",
        "Write functions that take a tuple and return the minimum, maximum, and sum of the elements. Print the results for a sample tuple."
      ]
    },
    {
      "cell_type": "code",
      "execution_count": 1,
      "metadata": {
        "colab": {
          "base_uri": "https://localhost:8080/"
        },
        "id": "HJbGsOpUwA-v",
        "outputId": "dec2a7d5-2e25-4d13-d621-9ab33d5e8b24"
      },
      "outputs": [
        {
          "output_type": "stream",
          "name": "stdout",
          "text": [
            "(1, 2, 3, 4, 5, 6, 7, 8, 9, 10)\n"
          ]
        }
      ],
      "source": [
        "first=tuple(range(1,11))\n",
        "print(first)"
      ],
      "id": "HJbGsOpUwA-v"
    },
    {
      "cell_type": "code",
      "source": [
        "first=tuple(range(1,11))\n",
        "print(first[0])\n",
        "print(first[len(first)//2])\n",
        "print(first[-1])\n"
      ],
      "metadata": {
        "colab": {
          "base_uri": "https://localhost:8080/"
        },
        "id": "XgOj-ScVwmK_",
        "outputId": "6d7b9c9e-4f7e-49f6-cc46-50cfb8c5e902"
      },
      "id": "XgOj-ScVwmK_",
      "execution_count": 5,
      "outputs": [
        {
          "output_type": "stream",
          "name": "stdout",
          "text": [
            "1\n",
            "6\n",
            "10\n"
          ]
        }
      ]
    },
    {
      "cell_type": "code",
      "source": [
        "first=tuple(range(1,11))\n",
        "print(first[:3])\n",
        "print(first[-3:])\n",
        "print(first[2:5])\n"
      ],
      "metadata": {
        "colab": {
          "base_uri": "https://localhost:8080/"
        },
        "id": "cfcys0CKwm-W",
        "outputId": "63708ee0-eb0e-4a2c-85a5-9719624e7032"
      },
      "id": "cfcys0CKwm-W",
      "execution_count": 8,
      "outputs": [
        {
          "output_type": "stream",
          "name": "stdout",
          "text": [
            "(1, 2, 3)\n",
            "(8, 9, 10)\n",
            "(3, 4, 5)\n"
          ]
        }
      ]
    },
    {
      "cell_type": "code",
      "source": [
        "nested_tup=(\n",
        "            (1,2,3),\n",
        "            (2,3,4),\n",
        "            (3,4,5)\n",
        "            )\n",
        "for row in nested_tup:\n",
        "  print(row)\n",
        "print(nested_tup[1][2])\n",
        "\n",
        "\n"
      ],
      "metadata": {
        "colab": {
          "base_uri": "https://localhost:8080/"
        },
        "id": "vrJ2OSx8wnjr",
        "outputId": "dae035cc-45c7-4647-8b60-15c2cf2e6688"
      },
      "id": "vrJ2OSx8wnjr",
      "execution_count": 12,
      "outputs": [
        {
          "output_type": "stream",
          "name": "stdout",
          "text": [
            "(1, 2, 3)\n",
            "(2, 3, 4)\n",
            "(3, 4, 5)\n",
            "4\n"
          ]
        }
      ]
    },
    {
      "cell_type": "code",
      "source": [
        "tup1=(1, 2, 3)\n",
        "tup2=(4, 5, 6)\n",
        "merge=(*tup1,*tup2)\n",
        "print(merge)"
      ],
      "metadata": {
        "colab": {
          "base_uri": "https://localhost:8080/"
        },
        "id": "IOR7Det9wopE",
        "outputId": "1b9bf30d-08ff-414c-e397-808c420900e5"
      },
      "id": "IOR7Det9wopE",
      "execution_count": 13,
      "outputs": [
        {
          "output_type": "stream",
          "name": "stdout",
          "text": [
            "(1, 2, 3, 4, 5, 6)\n"
          ]
        }
      ]
    },
    {
      "cell_type": "code",
      "source": [
        "unpacking=(1,2,3,4,5)\n",
        "a,b,c,d,e=unpacking\n",
        "print(a)\n",
        "print(b)\n",
        "print(c)\n",
        "print(d)\n",
        "print(e)\n"
      ],
      "metadata": {
        "colab": {
          "base_uri": "https://localhost:8080/"
        },
        "id": "NWoJczDowpe1",
        "outputId": "5b97f941-4450-438f-f26b-bf31a05aef44"
      },
      "id": "NWoJczDowpe1",
      "execution_count": 15,
      "outputs": [
        {
          "output_type": "stream",
          "name": "stdout",
          "text": [
            "1\n",
            "2\n",
            "3\n",
            "4\n",
            "5\n"
          ]
        }
      ]
    },
    {
      "cell_type": "code",
      "source": [
        "duplicate=(1,2,2,3,4,5)\n",
        "print(duplicate.count(2))\n",
        "print(duplicate.index(2))\n",
        "\n",
        "\n",
        ""
      ],
      "metadata": {
        "colab": {
          "base_uri": "https://localhost:8080/"
        },
        "id": "pIPP8bmG0__8",
        "outputId": "57d826dd-d03e-4174-a2b4-a00a6461e0a4"
      },
      "id": "pIPP8bmG0__8",
      "execution_count": 18,
      "outputs": [
        {
          "output_type": "stream",
          "name": "stdout",
          "text": [
            "2\n",
            "1\n"
          ]
        }
      ]
    },
    {
      "cell_type": "code",
      "source": [
        "list1=[1,2,3,4,5]\n",
        "print(tuple(list1))"
      ],
      "metadata": {
        "colab": {
          "base_uri": "https://localhost:8080/"
        },
        "id": "erhhjBcI0_8d",
        "outputId": "69a1e137-6df5-4aae-9736-9607e3ea9de7"
      },
      "id": "erhhjBcI0_8d",
      "execution_count": 19,
      "outputs": [
        {
          "output_type": "stream",
          "name": "stdout",
          "text": [
            "(1, 2, 3, 4, 5)\n"
          ]
        }
      ]
    },
    {
      "cell_type": "code",
      "source": [
        "three_tuples=((1,2,3),(\"hello\",3,5),(\"neha\",2,1))\n",
        "for item in three_tuples:\n",
        "  print(item)"
      ],
      "metadata": {
        "colab": {
          "base_uri": "https://localhost:8080/"
        },
        "id": "MaqbnsiS0_va",
        "outputId": "bed09a9e-f6aa-4a22-b200-1922ae0d491d"
      },
      "id": "MaqbnsiS0_va",
      "execution_count": 21,
      "outputs": [
        {
          "output_type": "stream",
          "name": "stdout",
          "text": [
            "(1, 2, 3)\n",
            "('hello', 3, 5)\n",
            "('neha', 2, 1)\n"
          ]
        }
      ]
    },
    {
      "cell_type": "code",
      "source": [
        "t_l=(1,2,3,4,5)\n",
        "con=list(t_l)\n",
        "con.append(6)\n",
        "con2=tuple(con)\n",
        "print(con2)"
      ],
      "metadata": {
        "colab": {
          "base_uri": "https://localhost:8080/"
        },
        "id": "mv7rK-920_sC",
        "outputId": "495bfcda-2bca-457e-c7b4-6fc870e63292"
      },
      "id": "mv7rK-920_sC",
      "execution_count": 23,
      "outputs": [
        {
          "output_type": "stream",
          "name": "stdout",
          "text": [
            "(1, 2, 3, 4, 5, 6)\n"
          ]
        }
      ]
    },
    {
      "cell_type": "code",
      "source": [
        "s=\"neha\"\n",
        "name=tuple(s)\n",
        "print(name)\n",
        "res=\"\".join(name)\n",
        "print(res)"
      ],
      "metadata": {
        "colab": {
          "base_uri": "https://localhost:8080/"
        },
        "id": "6MB87J7a3tMn",
        "outputId": "4531d393-cd24-412a-d058-004e9fb5d6f3"
      },
      "id": "6MB87J7a3tMn",
      "execution_count": 25,
      "outputs": [
        {
          "output_type": "stream",
          "name": "stdout",
          "text": [
            "('n', 'e', 'h', 'a')\n",
            "neha\n"
          ]
        }
      ]
    },
    {
      "cell_type": "code",
      "source": [
        "keys={(1,3):12,(22,33):44}\n",
        "for key,val in keys.items():\n",
        "  print(f\"{key}:{val}\")"
      ],
      "metadata": {
        "colab": {
          "base_uri": "https://localhost:8080/"
        },
        "id": "87yPytxJ3tJF",
        "outputId": "62b81322-8be8-4874-d2c1-190cc4b5817f"
      },
      "id": "87yPytxJ3tJF",
      "execution_count": 29,
      "outputs": [
        {
          "output_type": "stream",
          "name": "stdout",
          "text": [
            "(1, 3):12\n",
            "(22, 33):44\n"
          ]
        }
      ]
    },
    {
      "cell_type": "code",
      "source": [
        "nest=((1,3),(33,44),(56,78))\n",
        "for i in nest:\n",
        "  for j in i:\n",
        "    print(j,end=\" \")\n"
      ],
      "metadata": {
        "colab": {
          "base_uri": "https://localhost:8080/"
        },
        "id": "npzHn7fP3tED",
        "outputId": "24225888-d3cc-4ebb-f474-6830b60db972"
      },
      "id": "npzHn7fP3tED",
      "execution_count": 36,
      "outputs": [
        {
          "output_type": "stream",
          "name": "stdout",
          "text": [
            "1 3 33 44 56 78 "
          ]
        }
      ]
    },
    {
      "cell_type": "code",
      "source": [
        "dup1=(1,2,3,3,4,4)\n",
        "res=set(dup1)\n",
        "print(res)"
      ],
      "metadata": {
        "colab": {
          "base_uri": "https://localhost:8080/"
        },
        "id": "bfa9ed6t3sur",
        "outputId": "8ad79401-eba8-411b-e342-613de88dc8dd"
      },
      "id": "bfa9ed6t3sur",
      "execution_count": 37,
      "outputs": [
        {
          "output_type": "stream",
          "name": "stdout",
          "text": [
            "{1, 2, 3, 4}\n"
          ]
        }
      ]
    },
    {
      "cell_type": "code",
      "source": [
        "def sample(*n):\n",
        "  min_n=min(n)\n",
        "  max_n=max(n)\n",
        "  sum_n=sum(n)\n",
        "  return min_n,max_n,sum_n\n",
        "\n",
        "numbers=sample(1,2,3,4,5,6)\n",
        "print(numbers,sum)\n",
        "\n",
        "\n"
      ],
      "metadata": {
        "colab": {
          "base_uri": "https://localhost:8080/"
        },
        "id": "QUAMLXf87Goj",
        "outputId": "3922c25b-68ac-4446-d910-436d3142a893"
      },
      "id": "QUAMLXf87Goj",
      "execution_count": 53,
      "outputs": [
        {
          "output_type": "stream",
          "name": "stdout",
          "text": [
            "(1, 6, 21) <function sum at 0x7ab56df302c0>\n"
          ]
        }
      ]
    },
    {
      "cell_type": "code",
      "source": [],
      "metadata": {
        "id": "cKsTYUq97GkB"
      },
      "id": "cKsTYUq97GkB",
      "execution_count": null,
      "outputs": []
    }
  ],
  "metadata": {
    "kernelspec": {
      "display_name": "Python 3",
      "language": "python",
      "name": "python3"
    },
    "language_info": {
      "codemirror_mode": {
        "name": "ipython",
        "version": 3
      },
      "file_extension": ".py",
      "mimetype": "text/x-python",
      "name": "python",
      "nbconvert_exporter": "python",
      "pygments_lexer": "ipython3",
      "version": "3.9.7"
    },
    "colab": {
      "provenance": []
    }
  },
  "nbformat": 4,
  "nbformat_minor": 5
}