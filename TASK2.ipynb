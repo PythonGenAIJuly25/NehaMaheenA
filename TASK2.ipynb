{
  "nbformat": 4,
  "nbformat_minor": 0,
  "metadata": {
    "colab": {
      "provenance": []
    },
    "kernelspec": {
      "name": "python3",
      "display_name": "Python 3"
    },
    "language_info": {
      "name": "python"
    }
  },
  "cells": [
    {
      "cell_type": "markdown",
      "source": [
        "# **Fizz Buzz**\n",
        "\n",
        "Given an integer n, return a string array answer (1-indexed)\n",
        "\n",
        "where:\n",
        "\n",
        "  answer[i] == \"FizzBuzz\" if i is divisible by 3 and 5.\n",
        "\n",
        "  answer[i] == \"Fizz\" if i is divisible by 3.\n",
        "\n",
        "  answer[i] == \"Buzz\" if i is divisible by 5.\n",
        "\n",
        "  answer[i] == i (as a string) if none of the above conditions are true.\n",
        "  \n",
        "\n",
        "*Example 1:*\n",
        "\n",
        "Input: n = 3\n",
        "\n",
        "Output: [\"1\",\"2\",\"Fizz\"]\n",
        "\n",
        "*Example 2:*\n",
        "\n",
        "Input: n = 5\n",
        "\n",
        "Output: [\"1\",\"2\",\"Fizz\",\"4\",\"Buzz\"]\n",
        "\n",
        "*Example 3:*\n",
        "\n",
        "Input: n = 15\n",
        "\n",
        "Output: [\"1\",\"2\",\"Fizz\",\"4\",\"Buzz\",\"Fizz\",\"7\",\"8\",\"Fizz\",\"Buzz\",\"11\",\"Fizz\",\"13\",\"14\",\"FizzBuzz\"]\n"
      ],
      "metadata": {
        "id": "oK8OrRWBZLW9"
      }
    },
    {
      "cell_type": "code",
      "source": [
        "from typing import List\n",
        "\n",
        "class Solution:\n",
        "    def fizzBuzz(self, n: int) -> List[str]:\n",
        "        res = []\n",
        "        for i in range(1, n + 1):\n",
        "            if i % 3 == 0 and i % 5 == 0:\n",
        "                res.append(\"FizzBuzz\")\n",
        "            elif i % 3 == 0:\n",
        "                res.append(\"Fizz\")\n",
        "            elif i % 5 == 0:\n",
        "                res.append(\"Buzz\")\n",
        "            else:\n",
        "                res.append(str(i))\n",
        "        return res\n",
        "sol = Solution()\n",
        "print(sol.fizzBuzz(15))"
      ],
      "metadata": {
        "colab": {
          "base_uri": "https://localhost:8080/"
        },
        "id": "Yk7XsUOxZsEC",
        "outputId": "74fb90ae-857c-4b0f-d297-8d2ba9df00ad"
      },
      "execution_count": 6,
      "outputs": [
        {
          "output_type": "stream",
          "name": "stdout",
          "text": [
            "['1', '2', 'Fizz', '4', 'Buzz', 'Fizz', '7', '8', 'Fizz', 'Buzz', '11', 'Fizz', '13', '14', 'FizzBuzz']\n"
          ]
        }
      ]
    }
  ]
}