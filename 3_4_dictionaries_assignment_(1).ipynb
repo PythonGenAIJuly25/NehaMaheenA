{
  "cells": [
    {
      "cell_type": "markdown",
      "metadata": {
        "id": "G-MCBWBh2BS4"
      },
      "source": [
        "# Module 3: Data Structures Assignments\n",
        "## Lesson 3.4: Dictionaries\n",
        "### Assignment 1: Creating and Accessing Dictionaries\n",
        "\n",
        "Create a dictionary with the first 10 positive integers as keys and their squares as values. Print the dictionary.\n",
        "\n",
        "### Assignment 2: Accessing Dictionary Elements\n",
        "\n",
        "Print the value of the key 5 and the keys of the dictionary created in Assignment 1.\n",
        "\n",
        "### Assignment 3: Dictionary Methods\n",
        "\n",
        "Add a new key-value pair (11, 121) to the dictionary created in Assignment 1 and then remove the key-value pair with key 1. Print the modified dictionary.\n",
        "\n",
        "### Assignment 4: Iterating Over Dictionaries\n",
        "\n",
        "Iterate over the dictionary created in Assignment 1 and print each key-value pair.\n",
        "\n",
        "### Assignment 5: Dictionary Comprehensions\n",
        "\n",
        "Create a new dictionary containing the cubes of the first 10 positive integers using a dictionary comprehension. Print the new dictionary.\n",
        "\n",
        "### Assignment 6: Merging Dictionaries\n",
        "\n",
        "Create two dictionaries: one with keys as the first 5 positive integers and values as their squares, and another with keys as the next 5 positive integers and values as their squares. Merge these dictionaries into a single dictionary and print it.\n",
        "\n",
        "### Assignment 7: Nested Dictionaries\n",
        "\n",
        "Create a nested dictionary representing a student with keys 'name', 'age', 'grades', where 'grades' is another dictionary with keys 'math', 'science', and 'english'. Print the nested dictionary.\n",
        "\n",
        "### Assignment 8: Dictionary of Lists\n",
        "\n",
        "Create a dictionary where the keys are the first 5 positive integers and the values are lists containing the first 5 multiples of the key. Print the dictionary.\n",
        "\n",
        "### Assignment 9: Dictionary of Tuples\n",
        "\n",
        "Create a dictionary where the keys are the first 5 positive integers and the values are tuples containing the key and its square. Print the dictionary.\n",
        "\n",
        "### Assignment 10: Dictionary and List Conversion\n",
        "\n",
        "Create a dictionary with the first 5 positive integers as keys and their squares as values. Convert the dictionary to a list of tuples and print it.\n",
        "\n",
        "### Assignment 11: Dictionary Filtering\n",
        "\n",
        "Create a dictionary with the first 10 positive integers as keys and their squares as values. Create a new dictionary containing only the key-value pairs where the key is even. Print the new dictionary.\n",
        "\n",
        "### Assignment 12: Dictionary Key and Value Transformation\n",
        "\n",
        "Create a dictionary with the first 5 positive integers as keys and their squares as values. Create a new dictionary with keys and values swapped. Print the new dictionary.\n",
        "\n",
        "### Assignment 13: Default Dictionary\n",
        "\n",
        "Create a default dictionary where each key has a default value of an empty list. Add some elements to the lists and print the dictionary.\n",
        "\n",
        "### Assignment 14: Counting with Dictionaries\n",
        "\n",
        "Write a function that takes a string and returns a dictionary with the count of each character in the string. Print the dictionary.\n",
        "\n",
        "### Assignment 15: Dictionary and JSON\n",
        "\n",
        "Create a dictionary representing a book with keys 'title', 'author', 'year', and 'genre'. Convert the dictionary to a JSON string and print it."
      ],
      "id": "G-MCBWBh2BS4"
    },
    {
      "cell_type": "code",
      "source": [
        "dic1={i:i**2 for i in range(1,11)}\n",
        "print(dic1)"
      ],
      "metadata": {
        "colab": {
          "base_uri": "https://localhost:8080/"
        },
        "id": "Mc26lN0T2OoI",
        "outputId": "f8b06309-9667-426f-8597-ba76948464a4"
      },
      "id": "Mc26lN0T2OoI",
      "execution_count": 3,
      "outputs": [
        {
          "output_type": "stream",
          "name": "stdout",
          "text": [
            "{1: 1, 2: 4, 3: 9, 4: 16, 5: 25, 6: 36, 7: 49, 8: 64, 9: 81, 10: 100}\n"
          ]
        }
      ]
    },
    {
      "cell_type": "code",
      "source": [
        "dic1={i:i**2 for i  in range(1,11)}\n",
        "print(dic1[5])\n",
        "print(dic1.keys())"
      ],
      "metadata": {
        "colab": {
          "base_uri": "https://localhost:8080/"
        },
        "id": "VIalLdqk2OZF",
        "outputId": "081026ef-583a-49d5-e69e-6eeaf3afe77b"
      },
      "id": "VIalLdqk2OZF",
      "execution_count": 10,
      "outputs": [
        {
          "output_type": "stream",
          "name": "stdout",
          "text": [
            "25\n",
            "dict_keys([1, 2, 3, 4, 5, 6, 7, 8, 9, 10])\n"
          ]
        }
      ]
    },
    {
      "cell_type": "code",
      "source": [
        "dic1={i:i**2 for i  in range(1,11)}\n",
        "dic1[11]=121\n",
        "dic1.pop(1)\n",
        "print(dic1)\n"
      ],
      "metadata": {
        "colab": {
          "base_uri": "https://localhost:8080/"
        },
        "id": "gEL4PDVM2OPL",
        "outputId": "1cc238c4-1aee-4ba9-c072-7b18cd62ace6"
      },
      "id": "gEL4PDVM2OPL",
      "execution_count": 14,
      "outputs": [
        {
          "output_type": "stream",
          "name": "stdout",
          "text": [
            "{2: 4, 3: 9, 4: 16, 5: 25, 6: 36, 7: 49, 8: 64, 9: 81, 10: 100, 11: 121}\n"
          ]
        }
      ]
    },
    {
      "cell_type": "code",
      "source": [
        "dic1={i:i**2 for i  in range(1,11)}\n",
        "for key, value in dic1.items():\n",
        "  print(f\"{key}:{value}\")"
      ],
      "metadata": {
        "colab": {
          "base_uri": "https://localhost:8080/"
        },
        "id": "7GTXcwqh2OEf",
        "outputId": "30524923-9aa8-4ef2-aa12-113e1b0d0f22"
      },
      "id": "7GTXcwqh2OEf",
      "execution_count": 19,
      "outputs": [
        {
          "output_type": "stream",
          "name": "stdout",
          "text": [
            "1:1\n",
            "2:4\n",
            "3:9\n",
            "4:16\n",
            "5:25\n",
            "6:36\n",
            "7:49\n",
            "8:64\n",
            "9:81\n",
            "10:100\n"
          ]
        }
      ]
    },
    {
      "cell_type": "code",
      "source": [
        "dic2={ i:i**3 for i in range(1,11)}\n",
        "print(dic2)"
      ],
      "metadata": {
        "colab": {
          "base_uri": "https://localhost:8080/"
        },
        "id": "Aa4w2bEe2N0X",
        "outputId": "ff13ab4d-1ac4-4c45-8777-ae4854922519"
      },
      "id": "Aa4w2bEe2N0X",
      "execution_count": 21,
      "outputs": [
        {
          "output_type": "stream",
          "name": "stdout",
          "text": [
            "{1: 1, 2: 8, 3: 27, 4: 64, 5: 125, 6: 216, 7: 343, 8: 512, 9: 729, 10: 1000}\n"
          ]
        }
      ]
    },
    {
      "cell_type": "code",
      "source": [
        "dic1={i:i**2 for i  in range(1,6)}\n",
        "dic2={ i:i**2 for i in range(6,11)}\n",
        "merge_dict={**dic1,**dic2}\n",
        "print(merge_dict)\n"
      ],
      "metadata": {
        "colab": {
          "base_uri": "https://localhost:8080/"
        },
        "id": "Z0yJlKHM2NfS",
        "outputId": "b9cdbe60-f55f-4877-ebdb-115382026f96"
      },
      "id": "Z0yJlKHM2NfS",
      "execution_count": 25,
      "outputs": [
        {
          "output_type": "stream",
          "name": "stdout",
          "text": [
            "{1: 1, 2: 4, 3: 9, 4: 16, 5: 25, 6: 36, 7: 49, 8: 64, 9: 81, 10: 100}\n"
          ]
        }
      ]
    },
    {
      "cell_type": "code",
      "execution_count": 26,
      "metadata": {
        "colab": {
          "base_uri": "https://localhost:8080/"
        },
        "id": "gNYqRRXJ2BS7",
        "outputId": "d391faa9-17e5-4317-a9bc-1c3fbedd1d0b"
      },
      "outputs": [
        {
          "output_type": "stream",
          "name": "stdout",
          "text": [
            "{'name': 'neha', 'age': 12, 'grades': {'maths': 99, 'science': 78, 'english': 100}}\n"
          ]
        }
      ],
      "source": [
        "student={\"name\":\"neha\",\"age\":12,\"grades\":{\"maths\":99,\"science\": 78,\"english\":100}}\n",
        "print(student)"
      ],
      "id": "gNYqRRXJ2BS7"
    },
    {
      "cell_type": "code",
      "source": [
        "numbers={ i:[i*j for j in range(1,6)] for i in range(1,6)}\n",
        "print(numbers)"
      ],
      "metadata": {
        "colab": {
          "base_uri": "https://localhost:8080/"
        },
        "id": "pNFmz_uf7Gcb",
        "outputId": "1c8fca0b-aaf9-4523-e19b-520668ccb477"
      },
      "id": "pNFmz_uf7Gcb",
      "execution_count": 28,
      "outputs": [
        {
          "output_type": "stream",
          "name": "stdout",
          "text": [
            "{1: [1, 2, 3, 4, 5], 2: [2, 4, 6, 8, 10], 3: [3, 6, 9, 12, 15], 4: [4, 8, 12, 16, 20], 5: [5, 10, 15, 20, 25]}\n"
          ]
        }
      ]
    },
    {
      "cell_type": "code",
      "source": [
        "numb={i:(i,i**2 )for i in range(1,6)}\n",
        "print(numb)"
      ],
      "metadata": {
        "colab": {
          "base_uri": "https://localhost:8080/"
        },
        "id": "Iq7eAnZj7GRQ",
        "outputId": "83f569e9-60f7-483d-f950-fa37332a70a0"
      },
      "id": "Iq7eAnZj7GRQ",
      "execution_count": 29,
      "outputs": [
        {
          "output_type": "stream",
          "name": "stdout",
          "text": [
            "{1: (1, 1), 2: (2, 4), 3: (3, 9), 4: (4, 16), 5: (5, 25)}\n"
          ]
        }
      ]
    },
    {
      "cell_type": "code",
      "source": [
        "dic1={i:i**2 for i  in range(1,6)}\n",
        "dic2=list(dic1.items())\n",
        "print(dic2)"
      ],
      "metadata": {
        "colab": {
          "base_uri": "https://localhost:8080/"
        },
        "id": "0ArpY5177GNu",
        "outputId": "950437e7-ac6c-46d0-caee-2482d6453e6b"
      },
      "id": "0ArpY5177GNu",
      "execution_count": 32,
      "outputs": [
        {
          "output_type": "stream",
          "name": "stdout",
          "text": [
            "[(1, 1), (2, 4), (3, 9), (4, 16), (5, 25)]\n"
          ]
        }
      ]
    },
    {
      "cell_type": "code",
      "source": [
        "dic1={i:i**2 for i  in range(1,11)}\n",
        "dict2={ k:v for k,v in dic1.items() if k%2==0}\n",
        "print(dic1)\n",
        "print(dict2)\n",
        "\n"
      ],
      "metadata": {
        "colab": {
          "base_uri": "https://localhost:8080/"
        },
        "id": "mOWd0hqe7GLh",
        "outputId": "b01ed8cd-c5ac-4213-8e76-a6ca3700f92e"
      },
      "id": "mOWd0hqe7GLh",
      "execution_count": 36,
      "outputs": [
        {
          "output_type": "stream",
          "name": "stdout",
          "text": [
            "{1: 1, 2: 4, 3: 9, 4: 16, 5: 25, 6: 36, 7: 49, 8: 64, 9: 81, 10: 100}\n",
            "{2: 4, 4: 16, 6: 36, 8: 64, 10: 100}\n"
          ]
        }
      ]
    },
    {
      "cell_type": "code",
      "source": [
        "dic1={i:i**2 for i  in range(1,11)}\n",
        "dict2={v:k for k ,v in dic1.items()}\n",
        "print(dict2)"
      ],
      "metadata": {
        "colab": {
          "base_uri": "https://localhost:8080/"
        },
        "id": "SZ4tI7rB_ZK4",
        "outputId": "bceada4c-4808-47a8-c4f5-673d030ff5e7"
      },
      "id": "SZ4tI7rB_ZK4",
      "execution_count": 39,
      "outputs": [
        {
          "output_type": "stream",
          "name": "stdout",
          "text": [
            "{1: 1, 4: 2, 9: 3, 16: 4, 25: 5, 36: 6, 49: 7, 64: 8, 81: 9, 100: 10}\n"
          ]
        }
      ]
    },
    {
      "cell_type": "code",
      "source": [
        "def counting(n):\n",
        "  dict={}\n",
        "  for ch in n:\n",
        "    if ch in dict:\n",
        "      dict[ch]+=1\n",
        "    else:\n",
        "      dict[ch]=1\n",
        "  return dict\n",
        "print(counting(\"hello\"))\n",
        "\n"
      ],
      "metadata": {
        "colab": {
          "base_uri": "https://localhost:8080/"
        },
        "id": "mYBJ2-NJ_YqH",
        "outputId": "e8e1794e-d541-499f-e31f-1d276e35d434"
      },
      "id": "mYBJ2-NJ_YqH",
      "execution_count": 42,
      "outputs": [
        {
          "output_type": "stream",
          "name": "stdout",
          "text": [
            "{'h': 1, 'e': 1, 'l': 2, 'o': 1}\n"
          ]
        }
      ]
    },
    {
      "cell_type": "code",
      "source": [],
      "metadata": {
        "id": "sW_QEorl_Ymq"
      },
      "id": "sW_QEorl_Ymq",
      "execution_count": null,
      "outputs": []
    },
    {
      "cell_type": "code",
      "source": [
        "import json\n",
        "book={\"title\":\"the alchemist\",\"author\":\"paulo\",\"year\":2002}\n",
        "res=json.dumps(book)\n",
        "print(res)\n",
        "print(type(res))"
      ],
      "metadata": {
        "colab": {
          "base_uri": "https://localhost:8080/"
        },
        "id": "K2JriogtFN5T",
        "outputId": "b2c6bdf4-a2d5-4023-d875-9a5a712e724f"
      },
      "id": "K2JriogtFN5T",
      "execution_count": 44,
      "outputs": [
        {
          "output_type": "stream",
          "name": "stdout",
          "text": [
            "{\"title\": \"the alchemist\", \"author\": \"paulo\", \"year\": 2002}\n",
            "<class 'str'>\n"
          ]
        }
      ]
    },
    {
      "cell_type": "code",
      "source": [],
      "metadata": {
        "id": "XI07m7nz_YkW"
      },
      "id": "XI07m7nz_YkW",
      "execution_count": null,
      "outputs": []
    }
  ],
  "metadata": {
    "kernelspec": {
      "display_name": "Python 3",
      "language": "python",
      "name": "python3"
    },
    "language_info": {
      "codemirror_mode": {
        "name": "ipython",
        "version": 3
      },
      "file_extension": ".py",
      "mimetype": "text/x-python",
      "name": "python",
      "nbconvert_exporter": "python",
      "pygments_lexer": "ipython3",
      "version": "3.9.7"
    },
    "colab": {
      "provenance": []
    }
  },
  "nbformat": 4,
  "nbformat_minor": 5
}