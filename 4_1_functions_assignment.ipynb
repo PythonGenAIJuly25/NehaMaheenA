{
  "cells": [
    {
      "cell_type": "markdown",
      "metadata": {
        "id": "fJB8uUZhG3L7"
      },
      "source": [
        "# Module 4: Functions Assignments\n",
        "## Lesson 4.1: Defining Functions\n",
        "### Assignment 1: Simple Function\n",
        "\n",
        "Define a function that takes a single integer as input and returns its square. Test the function with different inputs.\n",
        "\n",
        "### Assignment 2: Multiple Arguments\n",
        "\n",
        "Define a function that takes two integers as input and returns their sum. Test the function with different inputs.\n",
        "\n",
        "### Assignment 3: Default Arguments\n",
        "\n",
        "Define a function that takes two integers as input and returns their sum. The second integer should have a default value of 5. Test the function with different inputs.\n",
        "\n",
        "### Assignment 4: Keyword Arguments\n",
        "\n",
        "Define a function that takes three named arguments: first_name, last_name, and age, and returns a formatted string. Test the function with different inputs.\n",
        "\n",
        "### Assignment 5: Variable-length Arguments\n",
        "\n",
        "Define a function that takes a variable number of integer arguments and returns their product. Test the function with different inputs.\n",
        "\n",
        "### Assignment 6: Nested Functions\n",
        "\n",
        "Define a function that contains another function inside it. The outer function should take two integers as input and return the result of the inner function, which multiplies the two integers. Test the function with different inputs.\n",
        "\n",
        "### Assignment 7: Returning Multiple Values\n",
        "\n",
        "Define a function that takes a single integer as input and returns the integer squared, cubed, and raised to the power of four. Test the function with different inputs.\n",
        "\n",
        "### Assignment 8: Recursive Function\n",
        "\n",
        "Define a recursive function that calculates the factorial of a given number. Test the function with different inputs.\n",
        "\n",
        "### Assignment 9: Lambda Function\n",
        "\n",
        "Define a lambda function that takes two integers as input and returns their sum. Test the lambda function with different inputs.\n",
        "\n",
        "### Assignment 10: Map Function\n",
        "\n",
        "Use the map function to apply a lambda function that squares each number in a list of integers. Test with different lists.\n",
        "\n",
        "### Assignment 11: Filter Function\n",
        "\n",
        "Use the filter function to filter out all odd numbers from a list of integers. Test with different lists.\n",
        "\n",
        "### Assignment 12: Function Decorator\n",
        "\n",
        "Define a decorator function that prints 'Executing function...' before executing a function and 'Function executed.' after executing it. Apply this decorator to a function that takes a list of integers and returns their sum. Test the decorated function with different lists.\n",
        "\n",
        "### Assignment 13: Function with *args and **kwargs\n",
        "\n",
        "Define a function that takes variable-length arguments and keyword arguments and prints them. Test the function with different inputs.\n",
        "\n",
        "### Assignment 14: Higher-Order Function\n",
        "\n",
        "Define a higher-order function that takes a function and a list of integers as arguments, and applies the function to each integer in the list. Test with different functions and lists.\n",
        "\n",
        "### Assignment 15: Function Documentation\n",
        "\n",
        "Define a function with a docstring that explains what the function does, its parameters, and its return value. Print the function's docstring."
      ],
      "id": "fJB8uUZhG3L7"
    },
    {
      "cell_type": "code",
      "execution_count": 1,
      "metadata": {
        "colab": {
          "base_uri": "https://localhost:8080/"
        },
        "id": "Ui4DpqddG3L_",
        "outputId": "4127583f-341f-46f6-e4e5-0fe0a7d10796"
      },
      "outputs": [
        {
          "output_type": "stream",
          "name": "stdout",
          "text": [
            "4\n"
          ]
        }
      ],
      "source": [
        "def fun1(n):\n",
        "  return n**2\n",
        "fun1(2)"
      ],
      "id": "Ui4DpqddG3L_"
    },
    {
      "cell_type": "code",
      "source": [
        "def addition(a,b):\n",
        "  return a+b\n",
        "addition(10,20)"
      ],
      "metadata": {
        "colab": {
          "base_uri": "https://localhost:8080/"
        },
        "id": "nRfv_dIhJp7t",
        "outputId": "6da1709d-719b-4ba5-b72a-15f98c38f720"
      },
      "id": "nRfv_dIhJp7t",
      "execution_count": 4,
      "outputs": [
        {
          "output_type": "execute_result",
          "data": {
            "text/plain": [
              "30"
            ]
          },
          "metadata": {},
          "execution_count": 4
        }
      ]
    },
    {
      "cell_type": "code",
      "source": [
        "def addition(a,b=10):\n",
        "  return a+b\n",
        "addition(10)"
      ],
      "metadata": {
        "colab": {
          "base_uri": "https://localhost:8080/"
        },
        "id": "tnUqWaFrJp4H",
        "outputId": "f3868fa0-ac82-4ec4-f4c4-482f95d5aec1"
      },
      "id": "tnUqWaFrJp4H",
      "execution_count": 6,
      "outputs": [
        {
          "output_type": "execute_result",
          "data": {
            "text/plain": [
              "20"
            ]
          },
          "metadata": {},
          "execution_count": 6
        }
      ]
    },
    {
      "cell_type": "code",
      "source": [
        "def names(first_name, last_name, age):\n",
        "  return(f\" {first_name} {last_name}'s age is {age}\")\n",
        "names(\"ahil\",\"shaik\",21)\n"
      ],
      "metadata": {
        "colab": {
          "base_uri": "https://localhost:8080/",
          "height": 35
        },
        "id": "MK42Oyc4Jp2A",
        "outputId": "9d324659-9a42-4c32-bf80-45b5dd53148d"
      },
      "id": "MK42Oyc4Jp2A",
      "execution_count": 9,
      "outputs": [
        {
          "output_type": "execute_result",
          "data": {
            "text/plain": [
              "\" ahil shaik's age is 21\""
            ],
            "application/vnd.google.colaboratory.intrinsic+json": {
              "type": "string"
            }
          },
          "metadata": {},
          "execution_count": 9
        }
      ]
    },
    {
      "cell_type": "code",
      "source": [
        "def product(*n):\n",
        "  pdt=1\n",
        "  for i in n:\n",
        "    pdt*=i\n",
        "  return pdt\n",
        "product(1,2,3)"
      ],
      "metadata": {
        "colab": {
          "base_uri": "https://localhost:8080/"
        },
        "id": "Sd9OgLp5Jpzv",
        "outputId": "fae5e034-de1a-4b6e-b125-6e4637813c0c"
      },
      "id": "Sd9OgLp5Jpzv",
      "execution_count": 14,
      "outputs": [
        {
          "output_type": "execute_result",
          "data": {
            "text/plain": [
              "6"
            ]
          },
          "metadata": {},
          "execution_count": 14
        }
      ]
    },
    {
      "cell_type": "code",
      "source": [
        "def fun1(a,b):\n",
        "  def fun2(c,d):\n",
        "    return c*d\n",
        "  res=fun2(a,b)\n",
        "  return fun2\n",
        "print(fun1(2,3))"
      ],
      "metadata": {
        "colab": {
          "base_uri": "https://localhost:8080/"
        },
        "id": "khVwLJaUJpvG",
        "outputId": "35dcfbce-8491-4fd5-da91-161a38f0edff"
      },
      "id": "khVwLJaUJpvG",
      "execution_count": 45,
      "outputs": [
        {
          "output_type": "stream",
          "name": "stdout",
          "text": [
            "<function fun1.<locals>.fun2 at 0x7abf25a69f80>\n"
          ]
        }
      ]
    },
    {
      "cell_type": "code",
      "source": [
        "def fun1(n):\n",
        "  return n**2,n**3,n**4\n",
        "fun1(2)"
      ],
      "metadata": {
        "colab": {
          "base_uri": "https://localhost:8080/"
        },
        "id": "Joexg5_fJpsx",
        "outputId": "ced90b93-bad1-4668-8c42-e1a9a6e6d24c"
      },
      "id": "Joexg5_fJpsx",
      "execution_count": 24,
      "outputs": [
        {
          "output_type": "execute_result",
          "data": {
            "text/plain": [
              "(4, 8, 16)"
            ]
          },
          "metadata": {},
          "execution_count": 24
        }
      ]
    },
    {
      "cell_type": "code",
      "source": [
        "def recursive(n):\n",
        "  if n<2:\n",
        "    return 1\n",
        "  else:\n",
        "    return n*recursive(n-1)\n",
        "recursive(5)\n"
      ],
      "metadata": {
        "colab": {
          "base_uri": "https://localhost:8080/"
        },
        "id": "XJrwh-r4Jpqm",
        "outputId": "923ce25f-7e88-42db-fb77-137e910832df"
      },
      "id": "XJrwh-r4Jpqm",
      "execution_count": 26,
      "outputs": [
        {
          "output_type": "execute_result",
          "data": {
            "text/plain": [
              "120"
            ]
          },
          "metadata": {},
          "execution_count": 26
        }
      ]
    },
    {
      "cell_type": "code",
      "source": [
        "keys=lambda x,y:x+y\n",
        "keys(10,20)"
      ],
      "metadata": {
        "colab": {
          "base_uri": "https://localhost:8080/"
        },
        "id": "D24PkMesJpoN",
        "outputId": "7580c87f-dbf9-4b1c-e8b7-54005bc259a3"
      },
      "id": "D24PkMesJpoN",
      "execution_count": 28,
      "outputs": [
        {
          "output_type": "execute_result",
          "data": {
            "text/plain": [
              "30"
            ]
          },
          "metadata": {},
          "execution_count": 28
        }
      ]
    },
    {
      "cell_type": "code",
      "source": [
        "keys=[1,2,3,4,5]\n",
        "key=list(map(lambda x:x**2,keys))\n",
        "print(key)"
      ],
      "metadata": {
        "colab": {
          "base_uri": "https://localhost:8080/"
        },
        "id": "674SGzWHJpl2",
        "outputId": "d0db4ffe-bd04-4084-d52e-0e99af96c977"
      },
      "id": "674SGzWHJpl2",
      "execution_count": 33,
      "outputs": [
        {
          "output_type": "stream",
          "name": "stdout",
          "text": [
            "[1, 4, 9, 16, 25]\n"
          ]
        }
      ]
    },
    {
      "cell_type": "code",
      "source": [
        "keys=[1,2,3,4,5]\n",
        "key=list(filter(lambda x:x%2==0,keys))\n",
        "print(key)"
      ],
      "metadata": {
        "colab": {
          "base_uri": "https://localhost:8080/"
        },
        "id": "wXFCsMjJJpjb",
        "outputId": "d82c789a-0b86-4813-e2b1-84f1ed6301ea"
      },
      "id": "wXFCsMjJJpjb",
      "execution_count": 37,
      "outputs": [
        {
          "output_type": "stream",
          "name": "stdout",
          "text": [
            "[2, 4]\n"
          ]
        }
      ]
    },
    {
      "cell_type": "code",
      "source": [
        "def display_args_kwargs(*args, **kwargs):\n",
        "    print(\"Positional arguments:\", args)\n",
        "    print(\"Keyword arguments:\", kwargs)\n",
        "display_args_kwargs(1, 2, 3, name=\"nea\", age=88)\n",
        "\n"
      ],
      "metadata": {
        "colab": {
          "base_uri": "https://localhost:8080/"
        },
        "id": "rX6HVwPwTaV-",
        "outputId": "96ea0343-a166-4575-aee0-a6d512854d72"
      },
      "id": "rX6HVwPwTaV-",
      "execution_count": 41,
      "outputs": [
        {
          "output_type": "stream",
          "name": "stdout",
          "text": [
            "Positional arguments: (1, 2, 3)\n",
            "Keyword arguments: {'name': 'nea', 'age': 88}\n"
          ]
        }
      ]
    },
    {
      "cell_type": "code",
      "source": [
        "def apply_function(func, lst):\n",
        "    return [func(x) for x in lst]\n",
        "print(apply_function(lambda x: x * 2, [1, 2, 3]))\n"
      ],
      "metadata": {
        "colab": {
          "base_uri": "https://localhost:8080/"
        },
        "id": "UGIELW1LTaSq",
        "outputId": "9d30a246-3ce8-425b-f4b9-ac3225f2b338"
      },
      "id": "UGIELW1LTaSq",
      "execution_count": 39,
      "outputs": [
        {
          "output_type": "stream",
          "name": "stdout",
          "text": [
            "[2, 4, 6]\n"
          ]
        }
      ]
    },
    {
      "cell_type": "code",
      "source": [
        "def multiply(a, b):\n",
        "    \"\"\"\n",
        "    Multiplies two numbers and returns the result.\n",
        "\n",
        "    Parameters:\n",
        "    a : First number\n",
        "    b : Second number\n",
        "\n",
        "    Returns:\n",
        "    Product of a and b\n",
        "    \"\"\"\n",
        "    return a * b\n",
        "print(multiply.__doc__)"
      ],
      "metadata": {
        "colab": {
          "base_uri": "https://localhost:8080/"
        },
        "id": "gghkCK7bTaKr",
        "outputId": "5da10180-d1dc-4b8c-b642-587faed901c9"
      },
      "id": "gghkCK7bTaKr",
      "execution_count": 42,
      "outputs": [
        {
          "output_type": "stream",
          "name": "stdout",
          "text": [
            "\n",
            "    Multiplies two numbers and returns the result.\n",
            "\n",
            "    Parameters:\n",
            "    a : First number\n",
            "    b : Second number\n",
            "\n",
            "    Returns:\n",
            "    Product of a and b\n",
            "    \n"
          ]
        }
      ]
    }
  ],
  "metadata": {
    "kernelspec": {
      "display_name": "Python 3",
      "language": "python",
      "name": "python3"
    },
    "language_info": {
      "codemirror_mode": {
        "name": "ipython",
        "version": 3
      },
      "file_extension": ".py",
      "mimetype": "text/x-python",
      "name": "python",
      "nbconvert_exporter": "python",
      "pygments_lexer": "ipython3",
      "version": "3.9.7"
    },
    "colab": {
      "provenance": []
    }
  },
  "nbformat": 4,
  "nbformat_minor": 5
}