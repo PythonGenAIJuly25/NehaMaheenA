{
  "nbformat": 4,
  "nbformat_minor": 0,
  "metadata": {
    "colab": {
      "provenance": []
    },
    "kernelspec": {
      "name": "python3",
      "display_name": "Python 3"
    },
    "language_info": {
      "name": "python"
    }
  },
  "cells": [
    {
      "cell_type": "code",
      "execution_count": 1,
      "metadata": {
        "colab": {
          "base_uri": "https://localhost:8080/"
        },
        "id": "fj2SZVUsX-zQ",
        "outputId": "591cc383-0828-4ece-c8db-01bb27ee97f0"
      },
      "outputs": [
        {
          "output_type": "stream",
          "name": "stdout",
          "text": [
            "Enter first number: 5\n",
            "Enter second number: 2\n",
            "Enter operator (+, -, *, /): +\n",
            "Result: 7.0\n"
          ]
        }
      ],
      "source": [
        "def calc(x, y, op):\n",
        "    if op == '+':\n",
        "        return x + y\n",
        "    elif op == '-':\n",
        "        return x - y\n",
        "    elif op == '*':\n",
        "        return x * y\n",
        "    elif op == '/':\n",
        "        return x / y if y != 0 else \"Can't divide by zero\"\n",
        "    else:\n",
        "        return \"Invalid operator\"\n",
        "a = float(input(\"Enter first number: \"))\n",
        "b = float(input(\"Enter second number: \"))\n",
        "operator = input(\"Enter operator (+, -, *, /): \")\n",
        "\n",
        "print(\"Result:\", calc(a, b, operator))"
      ]
    }
  ]
}