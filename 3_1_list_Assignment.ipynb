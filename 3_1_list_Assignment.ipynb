{
  "cells": [
    {
      "cell_type": "markdown",
      "metadata": {
        "id": "ggYEkIA3fqBo"
      },
      "source": [
        "# Module 3: Data Structures Assignments\n",
        "## Lesson 3.1: Lists\n",
        "### Assignment 1: Creating and Accessing Lists\n",
        "\n",
        "Create a list of the first 20 positive integers. Print the list.\n",
        "\n",
        "### Assignment 2: Accessing List Elements\n",
        "\n",
        "Print the first, middle, and last elements of the list created in Assignment 1.\n",
        "\n",
        "### Assignment 3: List Slicing\n",
        "\n",
        "Print the first five elements, the last five elements, and the elements from index 5 to 15 of the list created in Assignment 1.\n",
        "\n",
        "### Assignment 4: List Comprehensions\n",
        "\n",
        "Create a new list containing the squares of the first 10 positive integers using a list comprehension. Print the new list.\n",
        "\n",
        "### Assignment 5: Filtering Lists\n",
        "\n",
        "Create a new list containing only the even numbers from the list created in Assignment 1 using a list comprehension. Print the new list.\n",
        "\n",
        "### Assignment 6: List Methods\n",
        "\n",
        "Create a list of random numbers and sort it in ascending and descending order. Remove the duplicates from the list and print the modified list.\n",
        "\n",
        "### Assignment 7: Nested Lists\n",
        "\n",
        "Create a nested list representing a 3x3 matrix and print the matrix. Access and print the element at the second row and third column.\n",
        "\n",
        "### Assignment 8: List of Dictionaries\n",
        "\n",
        "Create a list of dictionaries where each dictionary represents a student with keys 'name' and 'score'. Sort the list of dictionaries by the 'score' in descending order and print the sorted list.\n",
        "\n",
        "### Assignment 9: Matrix Transposition\n",
        "\n",
        "Write a function that takes a 3x3 matrix (nested list) as input and returns its transpose. Print the original and transposed matrices.\n",
        "\n",
        "### Assignment 10: Flattening a Nested List\n",
        "\n",
        "Write a function that takes a nested list and flattens it into a single list. Print the original and flattened lists.\n",
        "\n",
        "### Assignment 11: List Manipulation\n",
        "\n",
        "Create a list of the first 10 positive integers. Remove the elements at indices 2, 4, and 6, and insert the element '99' at index 5. Print the modified list.\n",
        "\n",
        "### Assignment 12: List Zipping\n",
        "\n",
        "Create two lists of the same length. Use the `zip` function to combine these lists into a list of tuples and print the result.\n",
        "\n",
        "### Assignment 13: List Reversal\n",
        "\n",
        "Write a function that takes a list and returns a new list with the elements in reverse order. Print the original and reversed lists.\n",
        "\n",
        "### Assignment 14: List Rotation\n",
        "\n",
        "Write a function that rotates a list by n positions. Print the original and rotated lists.\n",
        "\n",
        "### Assignment 15: List Intersection\n",
        "\n",
        "Write a function that takes two lists and returns a new list containing only the elements that are present in both lists. Print the intersected list."
      ],
      "id": "ggYEkIA3fqBo"
    },
    {
      "cell_type": "code",
      "source": [
        "num=list(range(1,21))\n",
        "print(num)"
      ],
      "metadata": {
        "colab": {
          "base_uri": "https://localhost:8080/"
        },
        "id": "5MuD3J89fydx",
        "outputId": "94730d98-9613-4101-a3d7-28965a9756b6"
      },
      "id": "5MuD3J89fydx",
      "execution_count": 1,
      "outputs": [
        {
          "output_type": "stream",
          "name": "stdout",
          "text": [
            "[1, 2, 3, 4, 5, 6, 7, 8, 9, 10, 11, 12, 13, 14, 15, 16, 17, 18, 19, 20]\n"
          ]
        }
      ]
    },
    {
      "cell_type": "code",
      "execution_count": 2,
      "metadata": {
        "colab": {
          "base_uri": "https://localhost:8080/"
        },
        "id": "tdNnKjRufqBs",
        "outputId": "b935da2a-3866-423a-a4ea-c5bad59c907e"
      },
      "outputs": [
        {
          "output_type": "stream",
          "name": "stdout",
          "text": [
            "1\n",
            "11\n",
            "20\n"
          ]
        }
      ],
      "source": [
        "num=list(range(1,21))\n",
        "print(num[0])\n",
        "print(num[len(num)//2])\n",
        "print(num[-1])"
      ],
      "id": "tdNnKjRufqBs"
    },
    {
      "cell_type": "code",
      "source": [
        "num=list(range(1,21))\n",
        "print(num[0:5])\n",
        "print(num[-5:])\n",
        "print(num[5:15])"
      ],
      "metadata": {
        "colab": {
          "base_uri": "https://localhost:8080/"
        },
        "id": "43lz_rwigAb6",
        "outputId": "179802a6-1146-445f-f177-40fd909067e6"
      },
      "id": "43lz_rwigAb6",
      "execution_count": 3,
      "outputs": [
        {
          "output_type": "stream",
          "name": "stdout",
          "text": [
            "[1, 2, 3, 4, 5]\n",
            "[16, 17, 18, 19, 20]\n",
            "[6, 7, 8, 9, 10, 11, 12, 13, 14, 15]\n"
          ]
        }
      ]
    },
    {
      "cell_type": "code",
      "source": [
        "new_list=[i*i for i in range(11)]\n",
        "print(new_list)"
      ],
      "metadata": {
        "colab": {
          "base_uri": "https://localhost:8080/"
        },
        "id": "s9t32le0gCES",
        "outputId": "1caa4bb5-df97-4684-eed0-0e713f8eb3f4"
      },
      "id": "s9t32le0gCES",
      "execution_count": 4,
      "outputs": [
        {
          "output_type": "stream",
          "name": "stdout",
          "text": [
            "[0, 1, 4, 9, 16, 25, 36, 49, 64, 81, 100]\n"
          ]
        }
      ]
    },
    {
      "cell_type": "code",
      "source": [
        "num=list(range(1,21))\n",
        "new_list2=[ i for i in num if i%2==0 ]\n",
        "print(new_list2)"
      ],
      "metadata": {
        "colab": {
          "base_uri": "https://localhost:8080/"
        },
        "id": "MV55_A1XgCAt",
        "outputId": "5bedea6f-242e-422d-9ed9-2d43edc93340"
      },
      "id": "MV55_A1XgCAt",
      "execution_count": 5,
      "outputs": [
        {
          "output_type": "stream",
          "name": "stdout",
          "text": [
            "[2, 4, 6, 8, 10, 12, 14, 16, 18, 20]\n"
          ]
        }
      ]
    },
    {
      "cell_type": "code",
      "source": [
        "random_list=[1,2,3,4,7,8,9,0,3,3,9]\n",
        "con=list(set(random_list))\n",
        "ascen=sorted(con)\n",
        "print(ascen)\n",
        "desc=sorted(con, reverse=True)\n",
        "print(desc)\n"
      ],
      "metadata": {
        "colab": {
          "base_uri": "https://localhost:8080/"
        },
        "id": "7bRpHLdbgB-R",
        "outputId": "31d4cfbf-e4cb-4583-f651-f0cc260b296f"
      },
      "id": "7bRpHLdbgB-R",
      "execution_count": 6,
      "outputs": [
        {
          "output_type": "stream",
          "name": "stdout",
          "text": [
            "[0, 1, 2, 3, 4, 7, 8, 9]\n",
            "[9, 8, 7, 4, 3, 2, 1, 0]\n"
          ]
        }
      ]
    },
    {
      "cell_type": "code",
      "source": [
        "nested_list=[[1,2,3],\n",
        "            [2,3,4],\n",
        "            [4,5,6]]\n",
        "for row in nested_list:\n",
        "    print(row)\n",
        "print(nested_list[1][2])"
      ],
      "metadata": {
        "colab": {
          "base_uri": "https://localhost:8080/"
        },
        "id": "lVXZLYTxgB74",
        "outputId": "06e4c0b1-e82c-430e-bc51-68d3c059b8f7"
      },
      "id": "lVXZLYTxgB74",
      "execution_count": 7,
      "outputs": [
        {
          "output_type": "stream",
          "name": "stdout",
          "text": [
            "[1, 2, 3]\n",
            "[2, 3, 4]\n",
            "[4, 5, 6]\n",
            "4\n"
          ]
        }
      ]
    },
    {
      "cell_type": "code",
      "source": [
        "l_o_d=[\n",
        "        {\"name\":\"neha\",\"score\":100},\n",
        "        {\"name\":\"pooja\",\"score\":88},\n",
        "        {\"name\":\"maheen\",\"score\":99},\n",
        "\n",
        "       ]\n",
        "res=sorted(l_o_d,key=lambda x:x[\"score\"], reverse=True )\n",
        "print(res)"
      ],
      "metadata": {
        "colab": {
          "base_uri": "https://localhost:8080/"
        },
        "id": "soFC8_Z5i7IT",
        "outputId": "f4510a5d-a070-46e8-baf8-970d08774d01"
      },
      "id": "soFC8_Z5i7IT",
      "execution_count": 11,
      "outputs": [
        {
          "output_type": "stream",
          "name": "stdout",
          "text": [
            "[{'name': 'neha', 'score': 100}, {'name': 'maheen', 'score': 99}, {'name': 'pooja', 'score': 88}]\n"
          ]
        }
      ]
    },
    {
      "cell_type": "code",
      "source": [
        "def transpose_mat(matrix):\n",
        "  trans=[[matrix[j][i]for j in range(3) ]for i in range(3)]\n",
        "  return trans\n",
        "get_trans=transpose_mat(nested_list)\n",
        "nested_list=[[1,2,3],\n",
        "            [2,3,4],\n",
        "            [4,5,6]]\n",
        "for row in nested_list:\n",
        "    print(row)\n",
        "print()\n",
        "for row in get_trans:\n",
        "    print(row)\n",
        "\n",
        "\n"
      ],
      "metadata": {
        "colab": {
          "base_uri": "https://localhost:8080/"
        },
        "id": "BkjcKgS6gB5X",
        "outputId": "4fa1317d-6c84-48ce-c968-c95972ccbd27"
      },
      "id": "BkjcKgS6gB5X",
      "execution_count": 9,
      "outputs": [
        {
          "output_type": "stream",
          "name": "stdout",
          "text": [
            "[1, 2, 3]\n",
            "[2, 3, 4]\n",
            "[4, 5, 6]\n",
            "\n",
            "[1, 2, 4]\n",
            "[2, 3, 5]\n",
            "[3, 4, 6]\n"
          ]
        }
      ]
    },
    {
      "cell_type": "code",
      "source": [],
      "metadata": {
        "id": "pK-H3dp3gB2r"
      },
      "id": "pK-H3dp3gB2r",
      "execution_count": null,
      "outputs": []
    },
    {
      "cell_type": "code",
      "source": [
        "list_mani=[1,2,3,4,5,6,7,8,9,10]\n",
        "(list_mani.remove(2))\n",
        "(list_mani.remove(4))\n",
        "(list_mani.remove(6))\n",
        "(list_mani.insert(5,99))\n",
        "print(list_mani)\n",
        "\n"
      ],
      "metadata": {
        "colab": {
          "base_uri": "https://localhost:8080/"
        },
        "id": "nwylABApgB0J",
        "outputId": "c858873c-f5f6-4f40-c0b9-7ae7d303c6dc"
      },
      "id": "nwylABApgB0J",
      "execution_count": 17,
      "outputs": [
        {
          "output_type": "stream",
          "name": "stdout",
          "text": [
            "[1, 3, 5, 7, 8, 99, 9, 10]\n"
          ]
        }
      ]
    },
    {
      "cell_type": "code",
      "source": [
        "list1=[\"nea\",1,3]\n",
        "list2=[\"mah\",5,\"a\"]\n",
        "res=list(zip(list1,list2))\n",
        "print(res)"
      ],
      "metadata": {
        "colab": {
          "base_uri": "https://localhost:8080/"
        },
        "id": "wHEmUVVngBt8",
        "outputId": "92486fa1-ca88-426d-ea3a-fb8bd72e0cf7"
      },
      "id": "wHEmUVVngBt8",
      "execution_count": 18,
      "outputs": [
        {
          "output_type": "stream",
          "name": "stdout",
          "text": [
            "[('nea', 'mah'), (1, 5), (3, 'a')]\n"
          ]
        }
      ]
    },
    {
      "cell_type": "code",
      "source": [
        "def intersection(lista,listb):\n",
        "  res=[]\n",
        "  for i in lista:\n",
        "    if i in listb and i not in res:\n",
        "      res.append(i)\n",
        "  return res\n",
        "intersection=intersection([1,2,3,4,5],[2,4,5,5,6])\n",
        "print(intersection)\n"
      ],
      "metadata": {
        "colab": {
          "base_uri": "https://localhost:8080/"
        },
        "id": "XX_cDdllgBqj",
        "outputId": "1d2e835e-3849-4cb7-8c11-6ba6638dbd8f"
      },
      "id": "XX_cDdllgBqj",
      "execution_count": 19,
      "outputs": [
        {
          "output_type": "stream",
          "name": "stdout",
          "text": [
            "[2, 4, 5]\n"
          ]
        }
      ]
    },
    {
      "cell_type": "code",
      "source": [
        "def reverse(lista):\n",
        "   print(lista)\n",
        "   res=lista[::-1]\n",
        "   return res\n",
        "reverse=reverse([1,2,3,4,5])\n",
        "print(reverse)\n",
        "\n"
      ],
      "metadata": {
        "colab": {
          "base_uri": "https://localhost:8080/"
        },
        "id": "oQEuvZN2gBlz",
        "outputId": "1623b46d-3551-4297-980f-e0e8f04d95f6"
      },
      "id": "oQEuvZN2gBlz",
      "execution_count": 24,
      "outputs": [
        {
          "output_type": "stream",
          "name": "stdout",
          "text": [
            "[1, 2, 3, 4, 5]\n",
            "[5, 4, 3, 2, 1]\n"
          ]
        }
      ]
    },
    {
      "cell_type": "code",
      "source": [],
      "metadata": {
        "id": "pRzrCW39gBaj"
      },
      "id": "pRzrCW39gBaj",
      "execution_count": null,
      "outputs": []
    },
    {
      "cell_type": "code",
      "source": [],
      "metadata": {
        "id": "zxTDbx1bgBLO"
      },
      "id": "zxTDbx1bgBLO",
      "execution_count": null,
      "outputs": []
    }
  ],
  "metadata": {
    "kernelspec": {
      "display_name": "Python 3",
      "language": "python",
      "name": "python3"
    },
    "language_info": {
      "codemirror_mode": {
        "name": "ipython",
        "version": 3
      },
      "file_extension": ".py",
      "mimetype": "text/x-python",
      "name": "python",
      "nbconvert_exporter": "python",
      "pygments_lexer": "ipython3",
      "version": "3.9.7"
    },
    "colab": {
      "provenance": []
    }
  },
  "nbformat": 4,
  "nbformat_minor": 5
}