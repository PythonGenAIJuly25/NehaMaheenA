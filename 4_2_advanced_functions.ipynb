{
  "cells": [
    {
      "cell_type": "markdown",
      "metadata": {
        "id": "WizrVUm5G5Ik"
      },
      "source": [
        "# Module 4: Advanced Functions Assignments\n",
        "## Lesson 4.1: Defining Functions\n",
        "\n",
        "## TRY TO SOLVE AS MANY AS YOU CAN!\n",
        "### Assignment 1: Fibonacci Sequence with Memoization\n",
        "\n",
        "Define a recursive function to calculate the nth Fibonacci number using memoization. Test the function with different inputs.\n",
        "\n",
        "### Assignment 2: Function with Nested Default Arguments\n",
        "\n",
        "Define a function that takes two arguments, a and b, where b is a dictionary with a default value of an empty dictionary. The function should add a new key-value pair to the dictionary and return it. Test the function with different inputs.\n",
        "\n",
        "### Assignment 3: Function with Variable Keyword Arguments\n",
        "\n",
        "Define a function that takes a variable number of keyword arguments and returns a dictionary containing only those key-value pairs where the value is an integer. Test the function with different inputs.\n",
        "\n",
        "### Assignment 4: Function with Callback\n",
        "\n",
        "Define a function that takes another function as a callback and a list of integers. The function should apply the callback to each integer in the list and return a new list with the results. Test with different callback functions.\n",
        "\n",
        "### Assignment 5: Function that Returns a Function\n",
        "\n",
        "Define a function that returns another function. The returned function should take an integer and return its square. Test the returned function with different inputs.\n",
        "\n",
        "### Assignment 6: Function with Decorators\n",
        "\n",
        "Define a function that calculates the time taken to execute another function. Apply this decorator to a function that performs a complex calculation. Test the decorated function with different inputs.\n",
        "\n",
        "### Assignment 7: Higher-Order Function for Filtering and Mapping\n",
        "\n",
        "Define a higher-order function that takes two functions, a filter function and a map function, along with a list of integers. The higher-order function should first filter the integers using the filter function and then apply the map function to the filtered integers. Test with different filter and map functions.\n",
        "\n",
        "### Assignment 8: Function Composition\n",
        "\n",
        "Define a function that composes two functions, f and g, such that the result is f(g(x)). Test with different functions f and g.\n",
        "\n",
        "### Assignment 9: Partial Function Application\n",
        "\n",
        "Use the functools.partial function to create a new function that multiplies its input by 2. Test the new function with different inputs.\n",
        "\n",
        "### Assignment 10: Function with Error Handling\n",
        "\n",
        "Define a function that takes a list of integers and returns their average. The function should handle any errors that occur (e.g., empty list) and return None in such cases. Test with different inputs.\n",
        "\n",
        "### Assignment 11: Function with Generators\n",
        "\n",
        "Define a function that generates an infinite sequence of Fibonacci numbers. Test by printing the first 10 numbers in the sequence.\n",
        "\n",
        "### Assignment 12: Currying\n",
        "\n",
        "Define a curried function that takes three arguments, one at a time, and returns their product. Test the function by providing arguments one at a time.\n",
        "\n",
        "### Assignment 13: Function with Context Manager\n",
        "\n",
        "Define a function that uses a context manager to write a list of integers to a file. The function should handle any errors that occur during file operations. Test with different lists.\n",
        "\n",
        "### Assignment 14: Function with Multiple Return Types\n",
        "\n",
        "Define a function that takes a list of mixed data types (integers, strings, and floats) and returns three lists: one containing all the integers, one containing all the strings, and one containing all the floats. Test with different inputs.\n",
        "\n",
        "### Assignment 15: Function with State\n",
        "\n",
        "Define a function that maintains state between calls using a mutable default argument. The function should keep track of how many times it has been called. Test by calling the function multiple times."
      ],
      "id": "WizrVUm5G5Ik"
    },
    {
      "cell_type": "code",
      "execution_count": 1,
      "metadata": {
        "colab": {
          "base_uri": "https://localhost:8080/"
        },
        "id": "Z1xQb16GG5Ip",
        "outputId": "b90f3c02-c864-4cef-ebd8-82a72b255485"
      },
      "outputs": [
        {
          "output_type": "stream",
          "name": "stdout",
          "text": [
            "{'a': 10, 'd': 25}\n"
          ]
        }
      ],
      "source": [
        "def filter_integers_only(**kwargs):\n",
        "  return {key: value for key, value in kwargs.items() if isinstance(value, int)}\n",
        "print(filter_integers_only(a=10, b='hello', c=3.14, d=25))\n"
      ],
      "id": "Z1xQb16GG5Ip"
    },
    {
      "cell_type": "code",
      "source": [
        "def get_square_function():\n",
        "    def square(n):\n",
        "        return n * n\n",
        "    return square\n",
        "square_fn = get_square_function()\n",
        "print(square_fn(3))"
      ],
      "metadata": {
        "colab": {
          "base_uri": "https://localhost:8080/"
        },
        "id": "PxsKeI02eYNN",
        "outputId": "aacfc00f-be1e-4002-a5f2-9ab72e044b7f"
      },
      "id": "PxsKeI02eYNN",
      "execution_count": 2,
      "outputs": [
        {
          "output_type": "stream",
          "name": "stdout",
          "text": [
            "9\n"
          ]
        }
      ]
    },
    {
      "cell_type": "code",
      "source": [
        "from functools import partial\n",
        "\n",
        "def multiply(x, y):\n",
        "    return x * y\n",
        "double = partial(multiply, 2)\n",
        "print(double(5))\n",
        "print(double(10))\n",
        "print(double(0))\n"
      ],
      "metadata": {
        "colab": {
          "base_uri": "https://localhost:8080/"
        },
        "id": "wyRPtZhifNC0",
        "outputId": "8170636e-c69c-499f-f00e-2ee21d386b0a"
      },
      "id": "wyRPtZhifNC0",
      "execution_count": 3,
      "outputs": [
        {
          "output_type": "stream",
          "name": "stdout",
          "text": [
            "10\n",
            "20\n",
            "0\n"
          ]
        }
      ]
    },
    {
      "cell_type": "code",
      "source": [
        "def sep_data_types(mixed_list):\n",
        "    int_list = []\n",
        "    str_list = []\n",
        "    float_list = []\n",
        "\n",
        "    for item in mixed_list:\n",
        "        if isinstance(item, int):\n",
        "            int_list.append(item)\n",
        "        elif isinstance(item, str):\n",
        "            str_list.append(item)\n",
        "        elif isinstance(item, float):\n",
        "            float_list.append(item)\n",
        "\n",
        "    return int_list, str_list, float_list\n",
        "\n",
        "\n",
        "data = [1, \"hello\", 3.14, 2, \"world\", 7.8, 100, \"python\", 0.5]\n",
        "ints, strings, floats = sep_data_types(data)\n",
        "\n",
        "print(\"Integers:\", ints)\n",
        "print(\"Strings:\", strings)\n",
        "print(\"Floats:\", floats)\n"
      ],
      "metadata": {
        "colab": {
          "base_uri": "https://localhost:8080/"
        },
        "id": "rrZuyD4kfM_z",
        "outputId": "372004f6-e44d-4723-dd4c-1ed19ab720e1"
      },
      "id": "rrZuyD4kfM_z",
      "execution_count": 4,
      "outputs": [
        {
          "output_type": "stream",
          "name": "stdout",
          "text": [
            "Integers: [1, 2, 100]\n",
            "Strings: ['hello', 'world', 'python']\n",
            "Floats: [3.14, 7.8, 0.5]\n"
          ]
        }
      ]
    },
    {
      "cell_type": "code",
      "source": [
        "def cal_average(num):\n",
        "    try:\n",
        "        if not num:\n",
        "            return None\n",
        "        return sum(num) / len(num)\n",
        "    except Exception as e:\n",
        "        print(f\"An  value/syntax error occurred: {e}\")\n",
        "        return None\n",
        "print(cal_average([10, 20, 30]))\n",
        "print(cal_average([]))\n",
        "print(cal_average([-5, 15]))\n"
      ],
      "metadata": {
        "colab": {
          "base_uri": "https://localhost:8080/"
        },
        "id": "taTV8noWfM9l",
        "outputId": "cae6434c-5455-4a8a-eaba-d3eda5eba7db"
      },
      "id": "taTV8noWfM9l",
      "execution_count": 11,
      "outputs": [
        {
          "output_type": "stream",
          "name": "stdout",
          "text": [
            "20.0\n",
            "None\n",
            "5.0\n"
          ]
        }
      ]
    },
    {
      "cell_type": "code",
      "source": [
        "def write_to_file(filename, numbers):\n",
        "    try:\n",
        "        with open(filename, 'w') as file:\n",
        "            for num in numbers:\n",
        "                file.write(str(num) + '\\n')\n",
        "        print(f\"Successfully wrote to {filename}\")\n",
        "    except Exception as e:\n",
        "        print(f\"An error occurred while writing to file: {e}\")\n",
        "write_to_file(\"output1.txt\", [1, 2, 3, 4, 5])\n",
        "write_to_file(\"output3.txt\", [])\n"
      ],
      "metadata": {
        "colab": {
          "base_uri": "https://localhost:8080/"
        },
        "id": "H3uH7hJQfM45",
        "outputId": "2f3a14c8-b475-400a-eaca-c26c39949f7c"
      },
      "id": "H3uH7hJQfM45",
      "execution_count": 12,
      "outputs": [
        {
          "output_type": "stream",
          "name": "stdout",
          "text": [
            "Successfully wrote to output1.txt\n",
            "Successfully wrote to output3.txt\n"
          ]
        }
      ]
    }
  ],
  "metadata": {
    "kernelspec": {
      "display_name": "Python 3",
      "language": "python",
      "name": "python3"
    },
    "language_info": {
      "codemirror_mode": {
        "name": "ipython",
        "version": 3
      },
      "file_extension": ".py",
      "mimetype": "text/x-python",
      "name": "python",
      "nbconvert_exporter": "python",
      "pygments_lexer": "ipython3",
      "version": "3.9.7"
    },
    "colab": {
      "provenance": []
    }
  },
  "nbformat": 4,
  "nbformat_minor": 5
}