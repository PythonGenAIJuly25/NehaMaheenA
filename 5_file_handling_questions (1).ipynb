{
  "cells": [
    {
      "cell_type": "markdown",
      "metadata": {
        "id": "wMl4Iycoi4cI"
      },
      "source": [
        "# Module: File Handling Assignments\n",
        "## Lesson: File Handling and Operations\n",
        "### Assignment 1: Reading a File\n",
        "\n",
        "Write a function that reads the contents of a file named `sample.txt` and prints each line.\n",
        "\n",
        "### Assignment 2: Writing to a File\n",
        "\n",
        "Write a function that writes a list of strings to a file named `output.txt`, with each string on a new line.\n",
        "\n",
        "### Assignment 3: Copying a File\n",
        "\n",
        "Write a function that copies the contents of a file named `source.txt` to a new file named `destination.txt`.\n",
        "\n",
        "### Assignment 4: Appending to a File\n",
        "\n",
        "Write a function that appends a given string to the end of a file named `log.txt`.\n",
        "\n",
        "### Assignment 5: Counting Words in a File\n",
        "\n",
        "Write a function that reads the contents of a file named `document.txt` and returns the number of words in the file.\n",
        "\n",
        "### Assignment 6: Finding and Replacing Text\n",
        "\n",
        "Write a function that finds and replaces all occurrences of a given word in a file named `data.txt` with another word.\n",
        "\n",
        "### Assignment 7: Reading a File in Reverse\n",
        "\n",
        "Write a function that reads the contents of a file named `reverse.txt` and prints each line in reverse order.\n",
        "\n",
        "### Assignment 8: Counting Lines, Words, and Characters\n",
        "\n",
        "Write a function that reads the contents of a file named `stats.txt` and returns the number of lines, words, and characters in the file.\n",
        "\n",
        "### Assignment 9: Merging Multiple Files\n",
        "\n",
        "Write a function that merges the contents of multiple files into a single file named `merged.txt`.\n",
        "\n",
        "### Assignment 10: Splitting a Large File\n",
        "\n",
        "Write a function that splits a large file named `large.txt` into smaller files of 100 lines each.\n",
        "\n",
        "### Assignment 11: Creating a Log File\n",
        "\n",
        "Write a function that creates a log file named `activity.log` and writes log messages with timestamps.\n",
        "\n",
        "### Assignment 12: Binary File Operations\n",
        "\n",
        "Write a function that reads a binary file named `image.bin` and writes its contents to another binary file named `copy_image.bin`.\n",
        "\n",
        "### Assignment 13: CSV File Operations\n",
        "\n",
        "Write a function that reads a CSV file named `data.csv` and prints its contents as a list of dictionaries.\n",
        "\n",
        "### Assignment 14: JSON File Operations\n",
        "\n",
        "Write a function that reads a JSON file named `data.json` and prints its contents as a Python dictionary.\n",
        "\n",
        "### Assignment 15: File Permission Handling\n",
        "\n",
        "Write a function that attempts to read a file named `protected.txt` and handles any permission errors gracefully by printing an error message."
      ],
      "id": "wMl4Iycoi4cI"
    },
    {
      "cell_type": "code",
      "execution_count": 10,
      "metadata": {
        "colab": {
          "base_uri": "https://localhost:8080/"
        },
        "id": "Kv1S5VVoi4cW",
        "outputId": "4e5c6d4a-47c4-4928-a5c2-83c35add8bb9"
      },
      "outputs": [
        {
          "output_type": "stream",
          "name": "stdout",
          "text": [
            "sample.txt not found.\n"
          ]
        }
      ],
      "source": [
        "def read_file():\n",
        "    try:\n",
        "        with open(\"sample.txt\", \"r\") as file:\n",
        "            for line in file:\n",
        "                print(line.strip())  # strip() removes trailing newline\n",
        "    except FileNotFoundError:\n",
        "        print(\"sample.txt not found.\")\n",
        "read_file()\n",
        "\n"
      ],
      "id": "Kv1S5VVoi4cW"
    },
    {
      "cell_type": "code",
      "source": [
        "def write_strings_to_file(strings):\n",
        "    try:\n",
        "        with open(\"output.txt\", \"w\") as file:\n",
        "            for s in strings:\n",
        "                file.write(s + \"\\n\")\n",
        "        print(\"Strings written to output.txt\")\n",
        "    except Exception as e:\n",
        "        print(\"Error writing to file:\", e)\n",
        "write_strings_to_file([\"Hello\", \"World\", \"Python\"])\n"
      ],
      "metadata": {
        "colab": {
          "base_uri": "https://localhost:8080/"
        },
        "id": "3tBCmhqKsSIW",
        "outputId": "e09ed5d0-2ffb-44d2-f1c5-8b2ac2c471c3"
      },
      "id": "3tBCmhqKsSIW",
      "execution_count": 5,
      "outputs": [
        {
          "output_type": "stream",
          "name": "stdout",
          "text": [
            "Strings written to output.txt\n"
          ]
        }
      ]
    },
    {
      "cell_type": "code",
      "source": [
        "def copy_file():\n",
        "    try:\n",
        "        with open(\"source.txt\", \"r\") as source:\n",
        "            content = source.read()\n",
        "\n",
        "        with open(\"destination.txt\", \"w\") as destination:\n",
        "            destination.write(content)\n",
        "\n",
        "        print(\"Contents copied from source.txt to destination.txt\")\n",
        "    except FileNotFoundError:\n",
        "        print(\"source.txt not found.\")\n",
        "    except Exception as e:\n",
        "        print(\"Error during copy:\", e)\n",
        "copy_file()\n"
      ],
      "metadata": {
        "colab": {
          "base_uri": "https://localhost:8080/"
        },
        "id": "BQnjlFMUr5FO",
        "outputId": "4d1e3701-1195-48c7-f59c-924a3c6df797"
      },
      "id": "BQnjlFMUr5FO",
      "execution_count": 9,
      "outputs": [
        {
          "output_type": "stream",
          "name": "stdout",
          "text": [
            "source.txt not found.\n"
          ]
        }
      ]
    },
    {
      "cell_type": "code",
      "source": [
        "def append_to_log(text):\n",
        "    try:\n",
        "        with open(\"log.txt\", \"a\") as file:\n",
        "            file.write(text + \"\\n\")\n",
        "        print(\"Text appended to log.txt\")\n",
        "    except Exception as e:\n",
        "        print(\"Error appending to file:\", e)\n",
        "append_to_log(\"New log entry at line 10\")\n"
      ],
      "metadata": {
        "colab": {
          "base_uri": "https://localhost:8080/"
        },
        "id": "8BIFD_2mr5Bu",
        "outputId": "be25d1de-45d1-4a9a-c9df-69697b6e21f2"
      },
      "id": "8BIFD_2mr5Bu",
      "execution_count": 3,
      "outputs": [
        {
          "output_type": "stream",
          "name": "stdout",
          "text": [
            "Text appended to log.txt\n"
          ]
        }
      ]
    },
    {
      "cell_type": "code",
      "source": [
        "def count_words_in_file():\n",
        "    try:\n",
        "        with open(\"document.txt\", \"r\") as file:\n",
        "            content = file.read()\n",
        "            words = content.split()\n",
        "            return len(words)\n",
        "    except FileNotFoundError:\n",
        "        print(\"document.txt not found.\")\n",
        "        return 0\n",
        "print(\"Word count:\", count_words_in_file())\n"
      ],
      "metadata": {
        "colab": {
          "base_uri": "https://localhost:8080/"
        },
        "id": "WrMDehM8r4_h",
        "outputId": "27a03eda-6d1a-43f3-b2df-02d13523cfff"
      },
      "id": "WrMDehM8r4_h",
      "execution_count": 11,
      "outputs": [
        {
          "output_type": "stream",
          "name": "stdout",
          "text": [
            "document.txt not found.\n",
            "Word count: 0\n"
          ]
        }
      ]
    },
    {
      "cell_type": "code",
      "source": [
        "def find_and_replace(old_word, new_word):\n",
        "    try:\n",
        "        with open(\"data.txt\", \"r\") as file:\n",
        "            content = file.read()\n",
        "\n",
        "        content = content.replace(old_word, new_word)\n",
        "\n",
        "        with open(\"data.txt\", \"w\") as file:\n",
        "            file.write(content)\n",
        "\n",
        "        print(f\"Replaced all occurrences of '{old_word}' with '{new_word}'.\")\n",
        "    except FileNotFoundError:\n",
        "        print(\"data.txt not found.\")\n",
        "find_and_replace(\"hello\", \"hi\")\n"
      ],
      "metadata": {
        "colab": {
          "base_uri": "https://localhost:8080/"
        },
        "id": "bXTjeo3vr48_",
        "outputId": "6edfe720-15f2-4850-a08c-9364e8a40c5d"
      },
      "id": "bXTjeo3vr48_",
      "execution_count": 12,
      "outputs": [
        {
          "output_type": "stream",
          "name": "stdout",
          "text": [
            "data.txt not found.\n"
          ]
        }
      ]
    },
    {
      "cell_type": "code",
      "source": [
        "def read_file_in_reverse():\n",
        "    try:\n",
        "        with open(\"reverse.txt\", \"r\") as file:\n",
        "            lines = file.readlines()\n",
        "            for line in reversed(lines):\n",
        "                print(line.strip())\n",
        "    except FileNotFoundError:\n",
        "        print(\"reverse.txt not found.\")\n",
        "read_file_in_reverse()\n"
      ],
      "metadata": {
        "colab": {
          "base_uri": "https://localhost:8080/"
        },
        "id": "-WpljQdhr46b",
        "outputId": "1c57a200-4a21-4f88-c0af-d19348cdac84"
      },
      "id": "-WpljQdhr46b",
      "execution_count": 13,
      "outputs": [
        {
          "output_type": "stream",
          "name": "stdout",
          "text": [
            "reverse.txt not found.\n"
          ]
        }
      ]
    },
    {
      "cell_type": "code",
      "source": [
        "def file_statistics():\n",
        "    try:\n",
        "        with open(\"stats.txt\", \"r\") as file:\n",
        "            lines = file.readlines()\n",
        "            num_lines = len(lines)\n",
        "            num_words = sum(len(line.split()) for line in lines)\n",
        "            num_chars = sum(len(line) for line in lines)\n",
        "            return num_lines, num_words, num_chars\n",
        "    except FileNotFoundError:\n",
        "        print(\"stats.txt not found.\")\n",
        "        return 0, 0, 0\n",
        "lines, words, chars = file_statistics()\n",
        "print(\"Lines:\", lines, \"Words:\", words, \"Characters:\", chars)\n"
      ],
      "metadata": {
        "colab": {
          "base_uri": "https://localhost:8080/"
        },
        "id": "4IvZf2UIr43-",
        "outputId": "651b4792-4e0c-4b3e-8aff-12d66634a055"
      },
      "id": "4IvZf2UIr43-",
      "execution_count": 14,
      "outputs": [
        {
          "output_type": "stream",
          "name": "stdout",
          "text": [
            "stats.txt not found.\n",
            "Lines: 0 Words: 0 Characters: 0\n"
          ]
        }
      ]
    },
    {
      "cell_type": "code",
      "source": [
        "def merge_files(file_list):\n",
        "    try:\n",
        "        with open(\"merged.txt\", \"w\") as outfile:\n",
        "            for fname in file_list:\n",
        "                try:\n",
        "                    with open(fname, \"r\") as infile:\n",
        "                        outfile.write(infile.read() + \"\\n\")\n",
        "                except FileNotFoundError:\n",
        "                    print(f\"{fname} not found. Skipping.\")\n",
        "        print(\"Files merged into merged.txt\")\n",
        "    except Exception as e:\n",
        "        print(\"Error while merging files:\", e)\n",
        "merge_files([\"file1.txt\", \"file2.txt\", \"file3.txt\"])\n"
      ],
      "metadata": {
        "colab": {
          "base_uri": "https://localhost:8080/"
        },
        "id": "OrxWl_jytrku",
        "outputId": "e6d7130c-c7c0-4a83-efc8-24b58d33f386"
      },
      "id": "OrxWl_jytrku",
      "execution_count": 15,
      "outputs": [
        {
          "output_type": "stream",
          "name": "stdout",
          "text": [
            "file1.txt not found. Skipping.\n",
            "file2.txt not found. Skipping.\n",
            "file3.txt not found. Skipping.\n",
            "Files merged into merged.txt\n"
          ]
        }
      ]
    },
    {
      "cell_type": "code",
      "source": [
        "import csv\n",
        "\n",
        "def read_csv_file():\n",
        "    try:\n",
        "        with open(\"data.csv\", newline='') as csvfile:\n",
        "            reader = csv.DictReader(csvfile)\n",
        "            data = [row for row in reader]\n",
        "            print(\"CSV Contents as List of Dictionaries:\")\n",
        "            print(data)\n",
        "    except FileNotFoundError:\n",
        "        print(\"data.csv not found.\")\n",
        "\n",
        "\n",
        "read_csv_file()\n"
      ],
      "metadata": {
        "colab": {
          "base_uri": "https://localhost:8080/"
        },
        "id": "CjM91MRRtrhX",
        "outputId": "c0e2714f-3a75-4378-a416-fd99c8c3aacf"
      },
      "id": "CjM91MRRtrhX",
      "execution_count": 18,
      "outputs": [
        {
          "output_type": "stream",
          "name": "stdout",
          "text": [
            "data.csv not found.\n"
          ]
        }
      ]
    },
    {
      "cell_type": "code",
      "source": [
        "import json\n",
        "\n",
        "def read_json_file():\n",
        "    try:\n",
        "        with open(\"data.json\", \"r\") as json_file:\n",
        "            data = json.load(json_file)\n",
        "            print(\"JSON File Contents as Python Dictionary:\")\n",
        "            print(data)\n",
        "    except FileNotFoundError:\n",
        "        print(\"data.json not found.\")\n",
        "    except json.JSONDecodeError:\n",
        "        print(\"Error decoding JSON.\")\n",
        "\n",
        "\n",
        "read_json_file()\n"
      ],
      "metadata": {
        "colab": {
          "base_uri": "https://localhost:8080/"
        },
        "id": "EGQIUUqhtrfg",
        "outputId": "22c34d91-cebd-40bf-9bc2-5e3734459b57"
      },
      "id": "EGQIUUqhtrfg",
      "execution_count": 17,
      "outputs": [
        {
          "output_type": "stream",
          "name": "stdout",
          "text": [
            "data.json not found.\n"
          ]
        }
      ]
    },
    {
      "cell_type": "code",
      "source": [
        "def read_protected_file():\n",
        "    try:\n",
        "        with open(\"protected.txt\", \"r\") as file:\n",
        "            content = file.read()\n",
        "            print(\"File contents:\\n\", content)\n",
        "    except PermissionError:\n",
        "        print(\"Permission denied: Cannot read protected.txt\")\n",
        "    except FileNotFoundError:\n",
        "        print(\"protected.txt not found.\")\n",
        "\n",
        "\n",
        "read_protected_file()\n"
      ],
      "metadata": {
        "colab": {
          "base_uri": "https://localhost:8080/"
        },
        "id": "DkVI3beetrcy",
        "outputId": "559b5ca3-f81f-432b-c616-37dadfe3b265"
      },
      "id": "DkVI3beetrcy",
      "execution_count": 16,
      "outputs": [
        {
          "output_type": "stream",
          "name": "stdout",
          "text": [
            "protected.txt not found.\n"
          ]
        }
      ]
    },
    {
      "cell_type": "code",
      "source": [
        "def copy_binary_file(source=\"image.bin\", destination=\"copy_image.bin\"):\n",
        "    try:\n",
        "        with open(source, \"rb\") as src_file:\n",
        "            data = src_file.read()\n",
        "\n",
        "        with open(destination, \"wb\") as dest_file:\n",
        "            dest_file.write(data)\n",
        "\n",
        "        print(f\"Copied contents from {source} to {destination}.\")\n",
        "    except FileNotFoundError:\n",
        "        print(f\"File '{source}' not found.\")\n",
        "    except Exception as e:\n",
        "        print(\"An error occurred:\", e)\n",
        "\n",
        "copy_binary_file()\n"
      ],
      "metadata": {
        "colab": {
          "base_uri": "https://localhost:8080/"
        },
        "id": "kUmdjr7EuucI",
        "outputId": "39c09a5d-cd86-4b4b-d08c-fbd0c2570463"
      },
      "id": "kUmdjr7EuucI",
      "execution_count": 19,
      "outputs": [
        {
          "output_type": "stream",
          "name": "stdout",
          "text": [
            "File 'image.bin' not found.\n"
          ]
        }
      ]
    }
  ],
  "metadata": {
    "kernelspec": {
      "display_name": "Python 3",
      "language": "python",
      "name": "python3"
    },
    "language_info": {
      "codemirror_mode": {
        "name": "ipython",
        "version": 3
      },
      "file_extension": ".py",
      "mimetype": "text/x-python",
      "name": "python",
      "nbconvert_exporter": "python",
      "pygments_lexer": "ipython3",
      "version": "3.9.7"
    },
    "colab": {
      "provenance": []
    }
  },
  "nbformat": 4,
  "nbformat_minor": 5
}