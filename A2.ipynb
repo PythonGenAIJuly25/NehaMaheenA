{
  "cells": [
    {
      "cell_type": "code",
      "execution_count": null,
      "metadata": {
        "id": "2kQnKrD2YNfh",
        "outputId": "1536c733-31f9-46a3-dba9-f1aba89ec199",
        "colab": {
          "base_uri": "https://localhost:8080/"
        }
      },
      "outputs": [
        {
          "name": "stdout",
          "output_type": "stream",
          "text": [
            "Enter a number and check if its positive or negative? 0\n"
          ]
        }
      ],
      "source": [
        "num=int(input(\"Enter a number and check if its positive or negative? \"))\n",
        "if num>0:\n",
        "  print(f\" the number {num} is positive\")\n"
      ],
      "id": "2kQnKrD2YNfh"
    },
    {
      "cell_type": "markdown",
      "metadata": {
        "id": "9QSUe-u4YNfT"
      },
      "source": [
        "# Module 2: Control Flow Assignments\n",
        "## Lesson 2.1: Conditional Statements\n",
        "### Assignment 1: Simple if Statement\n",
        "\n",
        "Write a program that asks the user to input a number and prints whether the number is positive.\n",
        "\n",
        "### Assignment 2: if-else Statement\n",
        "\n",
        "Write a program that asks the user to input a number and prints whether the number is positive or negative.\n",
        "\n",
        "### Assignment 3: if-elif-else Statement\n",
        "\n",
        "Write a program that asks the user to input a number and prints whether the number is positive, negative, or zero.\n",
        "\n",
        "### Assignment 4: Nested if Statement\n",
        "\n",
        "Write a program that asks the user to input a number and prints whether the number is positive and even, positive and odd, or negative.\n",
        "\n",
        "## Lesson 2.2: Loops\n",
        "### Assignment 5: for Loop\n",
        "\n",
        "Write a program that prints all the numbers from 1 to 10 using a for loop.\n",
        "\n",
        "### Assignment 6: while Loop\n",
        "\n",
        "Write a program that prints all the numbers from 1 to 10 using a while loop.\n",
        "\n",
        "### Assignment 7: Nested Loops\n",
        "\n",
        "Write a program that prints a 5x5 grid of asterisks (*) using nested loops.\n",
        "\n",
        "### Assignment 8: break Statement\n",
        "\n",
        "Write a program that asks the user to input numbers until they input 0. The program should print the sum of all the input numbers.\n",
        "\n",
        "### Assignment 9: continue Statement\n",
        "\n",
        "Write a program that prints all the numbers from 1 to 10 except 5 using a for loop and continue statement.\n",
        "\n",
        "### Assignment 10: pass Statement\n",
        "\n",
        "Write a program that defines an empty function using the pass statement.\n",
        "\n",
        "### Assignment 11: Combining Loops and Conditionals\n",
        "\n",
        "Write a program that asks the user to input a number and prints all the even numbers from 1 to that number using a for loop.\n",
        "\n",
        "### Assignment 12: Factorial Calculation\n",
        "\n",
        "Write a program that calculates the factorial of a number input by the user using a while loop.\n",
        "\n",
        "### Assignment 13: Sum of Digits\n",
        "\n",
        "Write a program that calculates the sum of the digits of a number input by the user using a while loop.\n",
        "\n",
        "### Assignment 14: Prime Number Check\n",
        "\n",
        "Write a program that checks if a number input by the user is a prime number using a for loop.\n",
        "\n",
        "### Assignment 15: Fibonacci Sequence\n",
        "\n",
        "Write a program that prints the first n Fibonacci numbers, where n is input by the user."
      ],
      "id": "9QSUe-u4YNfT"
    },
    {
      "cell_type": "code",
      "source": [
        "num=int(input(\"Enter a number and check if its positive or negative? \"))\n",
        "if num>=0:\n",
        "  print(f\" the number {num} is positive\")\n",
        "else:\n",
        "    print(f\" the number {num} is negative\")\n"
      ],
      "metadata": {
        "id": "Eka9Ai4-ZVjJ",
        "outputId": "628f5275-f9b6-4187-dfc2-156d6eb9e69e",
        "colab": {
          "base_uri": "https://localhost:8080/"
        }
      },
      "id": "Eka9Ai4-ZVjJ",
      "execution_count": null,
      "outputs": [
        {
          "output_type": "stream",
          "name": "stdout",
          "text": [
            "Enter a number and check if its positive or negative? -9\n",
            " the number -9 is negative\n"
          ]
        }
      ]
    },
    {
      "cell_type": "code",
      "source": [
        "num=int(input(\"Enter a number and check if its positive or negative? \"))\n",
        "if num>0:\n",
        "  print(f\" the number {num} is positive\")\n",
        "elif num<0:\n",
        "    print(f\" the number {num} is negative\")\n",
        "else:\n",
        "   print(f\" the number {num} is zero\")\n"
      ],
      "metadata": {
        "id": "PHl3_LNoZtBR",
        "outputId": "fe412bc2-f80b-4ef7-a9b6-9b5a8224bbb7",
        "colab": {
          "base_uri": "https://localhost:8080/"
        }
      },
      "id": "PHl3_LNoZtBR",
      "execution_count": null,
      "outputs": [
        {
          "output_type": "stream",
          "name": "stdout",
          "text": [
            "Enter a number and check if its positive or negative? -1\n",
            " the number -1 is negative\n"
          ]
        }
      ]
    },
    {
      "cell_type": "code",
      "source": [
        "num=int(input(\"Enter a number and check if its positive or negative? \"))\n",
        "if (num>0):\n",
        "  print(f\" the number {num} is positive \")\n",
        "  if (num%2==0):\n",
        "    print(f\" the number {num} is positive even \")\n",
        "  else:\n",
        "    print(f\" the number {num} is positive odd\")\n",
        "else:\n",
        "  print(f\" the number {num} is negative \")\n",
        "\n",
        "\n"
      ],
      "metadata": {
        "id": "2l000C74ZtsP",
        "outputId": "df04e055-816f-40f7-9f40-b2c21443b010",
        "colab": {
          "base_uri": "https://localhost:8080/"
        }
      },
      "id": "2l000C74ZtsP",
      "execution_count": null,
      "outputs": [
        {
          "output_type": "stream",
          "name": "stdout",
          "text": [
            "Enter a number and check if its positive or negative? 3\n",
            " the number 3 is positive \n",
            " the number 3 is positive odd\n"
          ]
        }
      ]
    },
    {
      "cell_type": "code",
      "source": [
        "for i  in range(1,11):\n",
        "  print(i)"
      ],
      "metadata": {
        "id": "B6npwQ4UbC5x",
        "outputId": "1263caef-d96c-4537-81cc-46c7f45bba4f",
        "colab": {
          "base_uri": "https://localhost:8080/"
        }
      },
      "id": "B6npwQ4UbC5x",
      "execution_count": null,
      "outputs": [
        {
          "output_type": "stream",
          "name": "stdout",
          "text": [
            "1\n",
            "2\n",
            "3\n",
            "4\n",
            "5\n",
            "6\n",
            "7\n",
            "8\n",
            "9\n",
            "10\n"
          ]
        }
      ]
    },
    {
      "cell_type": "code",
      "source": [
        "i=1\n",
        "while i<=10:\n",
        "  print(i)\n",
        "  i+=1"
      ],
      "metadata": {
        "id": "3TmW8C03bDbS",
        "outputId": "3951dd44-7b47-453d-a70c-ba143c789185",
        "colab": {
          "base_uri": "https://localhost:8080/"
        }
      },
      "id": "3TmW8C03bDbS",
      "execution_count": null,
      "outputs": [
        {
          "output_type": "stream",
          "name": "stdout",
          "text": [
            "1\n",
            "2\n",
            "3\n",
            "4\n",
            "5\n",
            "6\n",
            "7\n",
            "8\n",
            "9\n",
            "10\n"
          ]
        }
      ]
    },
    {
      "cell_type": "code",
      "source": [
        "for i in range(5):\n",
        "  for j in range(5):\n",
        "    print(\"*\",end=\" \")\n",
        "  print()"
      ],
      "metadata": {
        "id": "GoFwSQ56b3Lr",
        "colab": {
          "base_uri": "https://localhost:8080/"
        },
        "outputId": "9d4d564a-a60d-4d2a-9582-beb2f43a0a32"
      },
      "id": "GoFwSQ56b3Lr",
      "execution_count": null,
      "outputs": [
        {
          "output_type": "stream",
          "name": "stdout",
          "text": [
            "* * * * * \n",
            "* * * * * \n",
            "* * * * * \n",
            "* * * * * \n",
            "* * * * * \n"
          ]
        }
      ]
    },
    {
      "cell_type": "code",
      "source": [
        "for i in range(1,11):\n",
        "  if i==5:\n",
        "    continue\n",
        "  print(i,end=\" \")\n",
        "\n"
      ],
      "metadata": {
        "id": "0VR9WB0Mx1WW",
        "colab": {
          "base_uri": "https://localhost:8080/"
        },
        "outputId": "34a7811e-ba99-43f6-e14a-bb79ecd853d6"
      },
      "id": "0VR9WB0Mx1WW",
      "execution_count": null,
      "outputs": [
        {
          "output_type": "stream",
          "name": "stdout",
          "text": [
            "1 2 3 4 6 7 8 9 10 "
          ]
        }
      ]
    },
    {
      "cell_type": "code",
      "source": [
        "numb=input(\"enter the numbers ? \")\n",
        "num=[int(i) for i in numb.split()]\n",
        "res=0\n",
        "for val in num:\n",
        "    if val==0:\n",
        "      break\n",
        "    res+=val\n",
        "print(f\" the sum is {res}\")"
      ],
      "metadata": {
        "colab": {
          "base_uri": "https://localhost:8080/"
        },
        "id": "yKA726ZFyv7F",
        "outputId": "5b8e2e89-c3df-4332-f56d-62daa06a8c50"
      },
      "id": "yKA726ZFyv7F",
      "execution_count": null,
      "outputs": [
        {
          "output_type": "stream",
          "name": "stdout",
          "text": [
            "enter the numbers ? 1 2 3 0 5\n",
            " the sum is 6\n"
          ]
        }
      ]
    },
    {
      "cell_type": "code",
      "source": [
        "def add(a,b):\n",
        "  pass"
      ],
      "metadata": {
        "id": "Gwm4EjXWz1Ca"
      },
      "id": "Gwm4EjXWz1Ca",
      "execution_count": null,
      "outputs": []
    },
    {
      "cell_type": "code",
      "source": [
        "n=int(input(\"enter a number? \"))\n",
        "for i in range(1,n+1):\n",
        "  if (i%2==0):\n",
        "    print(i, end=\" \")\n",
        "\n"
      ],
      "metadata": {
        "colab": {
          "base_uri": "https://localhost:8080/"
        },
        "id": "vLkIhGTWz7jA",
        "outputId": "134f1c1e-03cd-44b2-c868-2316dfcc04f6"
      },
      "id": "vLkIhGTWz7jA",
      "execution_count": null,
      "outputs": [
        {
          "output_type": "stream",
          "name": "stdout",
          "text": [
            "enter a number? 4\n",
            "2 4 "
          ]
        }
      ]
    },
    {
      "cell_type": "code",
      "source": [
        "n=int(input(\"enter a number? \"))\n",
        "fact=1\n",
        "i=1\n",
        "while i <=n:\n",
        "  fact*=i\n",
        "  i+=1\n",
        "print(f\" the factorial of a {n} is {fact}\")\n"
      ],
      "metadata": {
        "colab": {
          "base_uri": "https://localhost:8080/"
        },
        "id": "uhSY4hAw3Mv8",
        "outputId": "285176e9-2262-4140-85ee-8c88c29484bd"
      },
      "id": "uhSY4hAw3Mv8",
      "execution_count": null,
      "outputs": [
        {
          "output_type": "stream",
          "name": "stdout",
          "text": [
            "enter a number? 5\n",
            " the factorial of a 5 is 120\n"
          ]
        }
      ]
    },
    {
      "cell_type": "code",
      "source": [
        "n=int(input(\"enter a number? \"))\n",
        "res=0\n",
        "while n>0:\n",
        "  digit=n%10\n",
        "  res+=digit\n",
        "  n=n//10\n",
        "print(res)\n",
        "\n"
      ],
      "metadata": {
        "colab": {
          "base_uri": "https://localhost:8080/"
        },
        "id": "uBn7NO8Z4Ife",
        "outputId": "d78124cc-3f51-4072-ef4c-19bb65c03916"
      },
      "id": "uBn7NO8Z4Ife",
      "execution_count": null,
      "outputs": [
        {
          "output_type": "stream",
          "name": "stdout",
          "text": [
            "enter a number? 256\n",
            "13\n"
          ]
        }
      ]
    },
    {
      "cell_type": "code",
      "source": [
        "n=int(input(\"enter a number? \"))\n",
        "if n<=2:\n",
        "  print(\"its not a prime number\")\n",
        "for i in range(2,n):\n",
        "  if n%i==0:\n",
        "    print(\"not a prime number\")\n",
        "    break\n",
        "else:\n",
        "    print(\"is a prime number\")\n"
      ],
      "metadata": {
        "colab": {
          "base_uri": "https://localhost:8080/"
        },
        "id": "XpsyxRKt54Ur",
        "outputId": "6e330b59-8d8f-4e22-c8eb-a0c32fb70e3f"
      },
      "id": "XpsyxRKt54Ur",
      "execution_count": null,
      "outputs": [
        {
          "output_type": "stream",
          "name": "stdout",
          "text": [
            "enter a number? 6\n",
            "not a prime number\n"
          ]
        }
      ]
    },
    {
      "cell_type": "code",
      "source": [
        "n=int(input(\"enter a number? \"))\n",
        "a,b=0,1\n",
        "print(a,b,end=\" \")\n",
        "if\n",
        "for i in range(2,n):\n",
        "  c=a+b\n",
        "  print(c,end=\" \")\n",
        "  a=b\n",
        "  b=c"
      ],
      "metadata": {
        "colab": {
          "base_uri": "https://localhost:8080/"
        },
        "id": "0j4pNpP25_av",
        "outputId": "dceb807e-e9b6-4a15-9ba1-08c99354e609"
      },
      "id": "0j4pNpP25_av",
      "execution_count": null,
      "outputs": [
        {
          "output_type": "stream",
          "name": "stdout",
          "text": [
            "enter a number? 8\n",
            "0 1 1 2 3 5 8 13 "
          ]
        }
      ]
    },
    {
      "cell_type": "code",
      "source": [],
      "metadata": {
        "id": "LK3CpTDt5_Hs"
      },
      "id": "LK3CpTDt5_Hs",
      "execution_count": null,
      "outputs": []
    }
  ],
  "metadata": {
    "kernelspec": {
      "display_name": "Python 3",
      "language": "python",
      "name": "python3"
    },
    "language_info": {
      "codemirror_mode": {
        "name": "ipython",
        "version": 3
      },
      "file_extension": ".py",
      "mimetype": "text/x-python",
      "name": "python",
      "nbconvert_exporter": "python",
      "pygments_lexer": "ipython3",
      "version": "3.9.7"
    },
    "colab": {
      "provenance": []
    }
  },
  "nbformat": 4,
  "nbformat_minor": 5
}